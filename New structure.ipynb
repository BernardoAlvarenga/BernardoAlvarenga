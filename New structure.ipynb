{
 "cells": [
  {
   "cell_type": "markdown",
   "source": [
    "# Dash Interface"
   ],
   "metadata": {}
  },
  {
   "cell_type": "markdown",
   "source": [
    "## Importing modules "
   ],
   "metadata": {}
  },
  {
   "cell_type": "markdown",
   "source": [
    "In order to use this file some python modules need to be installed. You can use the .yml file in the repository to do so"
   ],
   "metadata": {}
  },
  {
   "cell_type": "code",
   "execution_count": 1,
   "source": [
    "from os.path import dirname, join, isfile\r\n",
    "from itertools import chain\r\n",
    "import pandas as pd\r\n",
    "import numpy as np\r\n",
    "import scipy.signal\r\n",
    "import scipy.io as sio\r\n",
    "import matplotlib.pyplot as plt\r\n",
    "from jupyter_dash import JupyterDash  # pip install dash\r\n",
    "import dash_html_components as html\r\n",
    "import dash_core_components as dcc\r\n",
    "from dash.dependencies import Output, Input\r\n",
    "import pandas as pd  # pip install pandas\r\n",
    "import plotly.express as px\r\n",
    "import math\r\n",
    "from dash import no_update\r\n",
    "from dash_canvas import DashCanvas"
   ],
   "outputs": [],
   "metadata": {}
  },
  {
   "cell_type": "markdown",
   "source": [
    "## Function to get dataframe"
   ],
   "metadata": {}
  },
  {
   "cell_type": "code",
   "execution_count": 2,
   "source": [
    "def get_dataframe(mat_fpath):\r\n",
    "    ''' Obtain Pandas dataframe from mat file\r\n",
    "    :param mat_fpath: File path to the mat file from which pandas DF should be created\r\n",
    "    '''\r\n",
    "    assert isfile(mat_fpath), \"Invalid file path!\"\r\n",
    "    mat_contents = sio.loadmat(mat_fpath)\r\n",
    "    viz_data = mat_contents[\"ccFddData\"]\r\n",
    "    viz_data = mat_contents['ccFddData']\r\n",
    "    n = 5;\r\n",
    "    iFDD_names = [\"Sys2_Impact_Location_P{}\".format(str(i+1)) for i in range(n)]\r\n",
    "    dFDD_pnames = [\"Sys2_Dmg_P_{}\".format(str(i+1)) for i in range(n)]\r\n",
    "    dFDD_cpnames = [\"Sys2_Dmg_P_{}_c\".format(str(i+1)) for i in range(n)]\r\n",
    "    dFDD_names = list(chain.from_iterable(zip(dFDD_pnames, dFDD_cpnames)))\r\n",
    "    col_names = ['Time', 'Sys2_Total_Dmg', 'Sys2_SimFDD_xe'] + iFDD_names + dFDD_names\r\n",
    "    df = pd.DataFrame(viz_data, columns = col_names)\r\n",
    "    return df             "
   ],
   "outputs": [],
   "metadata": {}
  },
  {
   "cell_type": "code",
   "execution_count": 3,
   "source": [
    "data = get_dataframe(\"newData_v6.mat\")"
   ],
   "outputs": [],
   "metadata": {}
  },
  {
   "cell_type": "code",
   "execution_count": 4,
   "source": [
    "t = data['Time'].to_numpy()\r\n",
    "trueHS = data['Sys2_Total_Dmg'].to_numpy()\r\n",
    "sim_fdd_xe = data['Sys2_SimFDD_xe'].to_numpy()\r\n",
    "impact_fdd = np.vstack(([data['Sys2_Impact_Location_P{}'.format(ii+1)].to_numpy() for ii in range(5)])).T\r\n",
    "dmg_fdd = [np.vstack((data['Sys2_Dmg_P_{}'.format(ii+1)].to_numpy(), \\\r\n",
    "                     data['Sys2_Dmg_P_{}_c'.format(ii+1)].to_numpy())).T for ii in range(5)]"
   ],
   "outputs": [],
   "metadata": {}
  },
  {
   "cell_type": "markdown",
   "source": [
    "## Function to graph FDD data"
   ],
   "metadata": {}
  },
  {
   "cell_type": "code",
   "execution_count": 5,
   "source": [
    "from plotly.subplots import make_subplots\r\n",
    "import plotly.graph_objects as go\r\n",
    "#statically graphs FDD data in a subplot\r\n",
    "def FDD_graphs(st, ft):\r\n",
    "  fig = make_subplots(rows=3, cols=2, \r\n",
    "                      subplot_titles=(\"Damage FDD: Segment 1\", \"Damage FDD: Segment 2\", \r\n",
    "                      \"Damage FDD: Segment 3\", \"Damage FDD: Segment 4\", \r\n",
    "                      \"Damage FDD: Segment 5\"))\r\n",
    "\r\n",
    "\r\n",
    "  fig.add_trace(\r\n",
    "      go.Scatter(x = t, y=dmg_fdd[0][st*1000:ft*1000,0], name=\"P[Damage] seg 1\"),\r\n",
    "      row = 1, col = 1\r\n",
    "  )\r\n",
    "  fig.add_trace(\r\n",
    "      go.Scatter(x = t, y=dmg_fdd[0][st*1000:ft*1000,1], name=\"P[No Damage] seg 1\"),\r\n",
    "      row = 1, col = 1\r\n",
    "  )\r\n",
    "  fig.add_trace(\r\n",
    "      go.Scatter(x = t, y=dmg_fdd[1][st*1000:ft*1000,0], name=\"P[Damage] seg 2\"),\r\n",
    "      row = 1, col = 2\r\n",
    "  )\r\n",
    "  fig.add_trace(\r\n",
    "      go.Scatter(x = t, y=dmg_fdd[1][st*1000:ft*1000,1], name=\"P[No Damage] seg 2\"),\r\n",
    "      row = 1, col = 2\r\n",
    "  )\r\n",
    "  fig.add_trace(\r\n",
    "      go.Scatter(x = t, y=dmg_fdd[2][st*1000:ft*1000,0], name=\"P[Damage] seg 3\"),\r\n",
    "      row = 2, col = 1\r\n",
    "  )\r\n",
    "  fig.add_trace(\r\n",
    "      go.Scatter(x = t, y=dmg_fdd[2][st*1000:ft*1000,1], name=\"P[No Damage] seg 3\"),\r\n",
    "      row = 2, col = 1\r\n",
    "  )\r\n",
    "  fig.add_trace(\r\n",
    "      go.Scatter(x = t, y=dmg_fdd[3][st*1000:ft*1000,0], name=\"P[Damage] seg 4\"),\r\n",
    "      row = 2, col = 2\r\n",
    "  )\r\n",
    "  fig.add_trace(\r\n",
    "      go.Scatter(x = t, y=dmg_fdd[3][st*1000:ft*1000,1], name=\"P[No Damage] seg 4\"),\r\n",
    "      row = 2, col = 2\r\n",
    "   )\r\n",
    "  fig.add_trace(\r\n",
    "      go.Scatter(x = t, y=dmg_fdd[4][st*1000:ft*1000,0], name=\"P[Damage] seg 5\"),\r\n",
    "      row = 3, col = 1\r\n",
    "  )\r\n",
    "  fig.add_trace(\r\n",
    "      go.Scatter(x = t, y=dmg_fdd[4][st*1000:ft*1000,1], name=\"P[No Damage] seg 5\"),\r\n",
    "      row = 3, col =1\r\n",
    "  )\r\n",
    "\r\n",
    "\r\n",
    "  #fig.update_layout(height=1000, width=900, title_text=\"FDD data for damage in each segment\")\r\n",
    "  return fig"
   ],
   "outputs": [],
   "metadata": {}
  },
  {
   "cell_type": "markdown",
   "source": [
    "## Interface to show data"
   ],
   "metadata": {}
  },
  {
   "cell_type": "code",
   "execution_count": 7,
   "source": [
    "external_stylesheets = ['https://codepen.io/chriddyp/pen/bWLwgP.css']\r\n",
    "app_testtt = JupyterDash(__name__, external_stylesheets=external_stylesheets)\r\n",
    "\r\n",
    "app_testtt.layout = html.Div([\r\n",
    "    dcc.Dropdown( ##Dropdown that gives option for user to select a subsystem\r\n",
    "        id=\"sub_to_choose\", ##Element id, used to refer to it\r\n",
    "        options=[ ##dictionary with label of each option, alongside the value if returns to the code\r\n",
    "            {'label': 'Structure Sys', 'value': 'struc'},\r\n",
    "            {'label': 'Power Sys', 'value': 'pow'},\r\n",
    "            {'label': 'Blank sys', 'value': 'blank'}\r\n",
    "        ],\r\n",
    "        value='struc'\r\n",
    "    ),\r\n",
    "    dcc.Graph( ##Graphing element, allows plotly graphs to be displayed\r\n",
    "        id=\"updating_graph\"\r\n",
    "    ),\r\n",
    "    \r\n",
    "    dcc.Interval( ##Interval element, counts how many intervals have passed\r\n",
    "        id=\"count_sec\",\r\n",
    "        interval=5*1000, # in milliseconds, amount of time it takes to update n_intervals\r\n",
    "        n_intervals=0 #how many intervals have passed\r\n",
    "    )\r\n",
    "\r\n",
    "])\r\n",
    "##The callback is how the app gets updated. Every time one of the inputs change, the function belows it is executed\r\n",
    "@app_testtt.callback(Output('updating_graph', 'figure'), #Output is whatever the function is returning. In this case,\r\n",
    "                        #it is reurning the figure of the dcc.graph element\r\n",
    "              [Input(\"sub_to_choose\", \"value\"),Input('count_sec', 'n_intervals')]) #Inputs are the inputs of the function below\r\n",
    "def update_metrics(opt, n): \r\n",
    "    if opt == \"struc\":\r\n",
    "        fig = FDD_graphs(0, 5*n)\r\n",
    "    return fig\r\n",
    "\r\n",
    "\r\n",
    "app_testtt.run_server(debug=False, port=8020)\r\n",
    "#After this cell is executed a link will be generated below. If you copy the link and paste it on your browser \r\n",
    "#You should be able to see the app"
   ],
   "outputs": [
    {
     "output_type": "stream",
     "name": "stderr",
     "text": [
      "C:\\Users\\Bernardo Alvarenga\\anaconda3\\envs\\rethi\\lib\\site-packages\\jupyter_dash\\jupyter_app.py:139: UserWarning:\n",
      "\n",
      "The 'environ['werkzeug.server.shutdown']' function is deprecated and will be removed in Werkzeug 2.1.\n",
      "\n",
      "127.0.0.1 - - [10/Aug/2021 20:41:15] \"GET /_shutdown_e7d9750c-6d73-44ab-b47e-ddaae7ccb77f HTTP/1.1\" 200 -\n",
      " * Running on http://127.0.0.1:8020/ (Press CTRL+C to quit)\n",
      "127.0.0.1 - - [10/Aug/2021 20:41:15] \"GET /_alive_e7d9750c-6d73-44ab-b47e-ddaae7ccb77f HTTP/1.1\" 200 -\n"
     ]
    },
    {
     "output_type": "stream",
     "name": "stdout",
     "text": [
      "Dash app running on http://127.0.0.1:8020/\n"
     ]
    }
   ],
   "metadata": {}
  },
  {
   "cell_type": "code",
   "execution_count": null,
   "source": [],
   "outputs": [],
   "metadata": {}
  }
 ],
 "metadata": {
  "orig_nbformat": 4,
  "language_info": {
   "name": "python",
   "version": "3.9.5",
   "mimetype": "text/x-python",
   "codemirror_mode": {
    "name": "ipython",
    "version": 3
   },
   "pygments_lexer": "ipython3",
   "nbconvert_exporter": "python",
   "file_extension": ".py"
  },
  "kernelspec": {
   "name": "python3",
   "display_name": "Python 3.9.5 64-bit ('rethi': conda)"
  },
  "interpreter": {
   "hash": "f8c3b17328700d72648949fc10ecc04663de078f5ebf7bc33249d3ae77dfee98"
  }
 },
 "nbformat": 4,
 "nbformat_minor": 2
}