{
  "nbformat": 4,
  "nbformat_minor": 2,
  "metadata": {
    "kernelspec": {
      "name": "python3",
      "display_name": "Python 3.9.5 64-bit ('rethi': conda)"
    },
    "language_info": {
      "codemirror_mode": {
        "name": "ipython",
        "version": 3
      },
      "file_extension": ".py",
      "mimetype": "text/x-python",
      "name": "python",
      "nbconvert_exporter": "python",
      "pygments_lexer": "ipython3",
      "version": "3.9.5"
    },
    "colab": {
      "name": "Dash-on-GGL-Colab.ipynb.txt",
      "provenance": [],
      "collapsed_sections": []
    },
    "interpreter": {
      "hash": "f8c3b17328700d72648949fc10ecc04663de078f5ebf7bc33249d3ae77dfee98"
    }
  },
  "cells": [
    {
      "cell_type": "markdown",
      "source": [
        "# Dash Interface"
      ],
      "metadata": {
        "id": "836rRuCKl5X4"
      }
    },
    {
      "cell_type": "markdown",
      "source": [
        "## Importing modules "
      ],
      "metadata": {
        "id": "Mb1bvCgKmngm"
      }
    },
    {
      "cell_type": "code",
      "execution_count": 161,
      "source": [
        "from os.path import dirname, join, isfile\r\n",
        "from itertools import chain\r\n",
        "import pandas as pd\r\n",
        "import numpy as np\r\n",
        "import scipy.signal\r\n",
        "import scipy.io as sio\r\n",
        "import matplotlib.pyplot as plt\r\n",
        "from jupyter_dash import JupyterDash  # pip install dash\r\n",
        "import dash_html_components as html\r\n",
        "import dash_core_components as dcc\r\n",
        "from dash.dependencies import Output, Input\r\n",
        "import pandas as pd  # pip install pandas\r\n",
        "import plotly.express as px\r\n",
        "import math\r\n",
        "from dash import no_update\r\n",
        "from dash_canvas import DashCanvas"
      ],
      "outputs": [],
      "metadata": {
        "id": "dMcL38t2thW_"
      }
    },
    {
      "cell_type": "markdown",
      "source": [
        "## Function to get dataframe"
      ],
      "metadata": {
        "id": "mcVdU0EVmuFt"
      }
    },
    {
      "cell_type": "code",
      "execution_count": 162,
      "source": [
        "def get_dataframe(mat_fpath):\r\n",
        "    ''' Obtain Pandas dataframe from mat file\r\n",
        "    :param mat_fpath: File path to the mat file from which pandas DF should be created\r\n",
        "    '''\r\n",
        "    assert isfile(mat_fpath), \"Invalid file path!\"\r\n",
        "    mat_contents = sio.loadmat(mat_fpath)\r\n",
        "    viz_data = mat_contents[\"ccFddData\"]\r\n",
        "    viz_data = mat_contents['ccFddData']\r\n",
        "    n = 5;\r\n",
        "    iFDD_names = [\"Sys2_Impact_Location_P{}\".format(str(i+1)) for i in range(n)]\r\n",
        "    dFDD_pnames = [\"Sys2_Dmg_P_{}\".format(str(i+1)) for i in range(n)]\r\n",
        "    dFDD_cpnames = [\"Sys2_Dmg_P_{}_c\".format(str(i+1)) for i in range(n)]\r\n",
        "    dFDD_names = list(chain.from_iterable(zip(dFDD_pnames, dFDD_cpnames)))\r\n",
        "    col_names = ['Time', 'Sys2_Total_Dmg', 'Sys2_SimFDD_xe'] + iFDD_names + dFDD_names\r\n",
        "    df = pd.DataFrame(viz_data, columns = col_names)\r\n",
        "    return df             "
      ],
      "outputs": [],
      "metadata": {
        "id": "judwf2j1tjJv"
      }
    },
    {
      "cell_type": "code",
      "execution_count": 163,
      "source": [
        "data = get_dataframe(\"newData_v6.mat\")"
      ],
      "outputs": [],
      "metadata": {
        "id": "FymTJ0l8tpqq"
      }
    },
    {
      "cell_type": "code",
      "execution_count": 164,
      "source": [
        "t = data['Time'].to_numpy()\r\n",
        "trueHS = data['Sys2_Total_Dmg'].to_numpy()\r\n",
        "sim_fdd_xe = data['Sys2_SimFDD_xe'].to_numpy()\r\n",
        "impact_fdd = np.vstack(([data['Sys2_Impact_Location_P{}'.format(ii+1)].to_numpy() for ii in range(5)])).T\r\n",
        "dmg_fdd = [np.vstack((data['Sys2_Dmg_P_{}'.format(ii+1)].to_numpy(), \\\r\n",
        "                     data['Sys2_Dmg_P_{}_c'.format(ii+1)].to_numpy())).T for ii in range(5)]"
      ],
      "outputs": [],
      "metadata": {
        "id": "3Kv36GWFttHk"
      }
    },
    {
      "cell_type": "markdown",
      "source": [
        "## Calculating time of impact and the probability around it"
      ],
      "metadata": {
        "id": "dBjNVn5Qm0sh"
      }
    },
    {
      "cell_type": "code",
      "execution_count": 165,
      "source": [
        "x = (int(np.argmax(impact_fdd))) / 5 #Getting the index for the peak registered for the impact FDD\r\n",
        "timeofImpact = int(x)\r\n",
        "timeofImpact\r\n",
        "\r\n",
        "prob = (impact_fdd[timeofImpact]) #list with impact probabilities for all 5 segments\r\n",
        "domeaff = [] #list with index of segments in which impact was registered\r\n",
        "for i in range(5):\r\n",
        "  if prob[i] > 0.2:\r\n",
        "    domeaff.append(i)\r\n",
        "\r\n",
        "#translating prabiblities into words\r\n",
        "for i in domeaff:\r\n",
        "  if prob[i] < 0.4:\r\n",
        "    confidence = \"probably not\"\r\n",
        "  elif prob[i] < 0.6:\r\n",
        "    confidence = \"chances about even\"\r\n",
        "  elif prob[i] < 0.8:\r\n",
        "    confidence = \"probablt\"\r\n",
        "  else:\r\n",
        "    confidence = \"almost certainly\" \r\n",
        "\r\n"
      ],
      "outputs": [],
      "metadata": {
        "id": "iKUBf8RhKD_0"
      }
    },
    {
      "cell_type": "markdown",
      "source": [
        "## Creating lists to store information"
      ],
      "metadata": {
        "id": "tlCGOP7WnAsQ"
      }
    },
    {
      "cell_type": "code",
      "execution_count": 166,
      "source": [
        "height = np.zeros(5) #list that will store the average values\r\n",
        "stdv = np.zeros(5) #list that will store standard deviation values\r\n",
        "min_ = np.zeros(5) #list that will contain the min values for the data \r\n",
        "max_ = np.zeros(5) #list that will contain the max values for the data\r\n",
        "st_error = np.zeros(5) #list that contains the standard error"
      ],
      "outputs": [],
      "metadata": {
        "id": "DMZFAsf6I4lb"
      }
    },
    {
      "cell_type": "markdown",
      "source": [
        "## Function to calculate statiscs of data"
      ],
      "metadata": {
        "id": "RI8dHXDnnFPJ"
      }
    },
    {
      "cell_type": "code",
      "execution_count": 167,
      "source": [
        "def avg_std2(dmg_info, impact, num, sec1, sec2): #function that calculates the mean between to time intervals\r\n",
        "  a = (dmg_info)\r\n",
        "  b = a[(sec1 * 1000):(sec2 * 1000),0]\r\n",
        "  min_[num] = np.min(b) #appends minimum value for each segment\r\n",
        "  max_[num] = np.max(b) #appends maximum value for each segment\r\n",
        "  height[num] = np.mean(b) #calculates mean of set of values\r\n",
        "  stdv[num] = np.std(b) #calculates std dev. of set of values\r\n",
        "  st_error = np.std(b, ddof=1) / np.sqrt(np.size(b)) #calculates the standard error for each segment\r\n",
        "  num += 1;\r\n",
        "  return num;"
      ],
      "outputs": [],
      "metadata": {
        "id": "qaB6xL4pF-ZX"
      }
    },
    {
      "cell_type": "markdown",
      "source": [
        "## Function to cap std on bar chart graph at 0 and 1"
      ],
      "metadata": {
        "id": "2XqHWIz_nXg_"
      }
    },
    {
      "cell_type": "code",
      "execution_count": 168,
      "source": [
        "def lin(std, h): #function that limit standard deviations to between one and zero\r\n",
        "# takes standard deviation and height of the bars and makes sure the height +- the standard\r\n",
        "#deviation is within that range. Returns list with values to use\r\n",
        "  fr = np.zeros(10)\r\n",
        "  index = 0\r\n",
        "  for i in std:\r\n",
        "    if index < 5:\r\n",
        "      if (h[index] - i) < 0:\r\n",
        "        fr[index] = h[index]\r\n",
        "      else:\r\n",
        "        fr[index] = i\r\n",
        "    else:\r\n",
        "      if (h[index] + i > 1):\r\n",
        "        fr[index] = 1 - h[index]\r\n",
        "      else:\r\n",
        "        fr[index] = i\r\n",
        "    index = index + 1\r\n",
        "\r\n",
        "  return (fr)"
      ],
      "outputs": [],
      "metadata": {
        "id": "ArQOgGQUF_UC"
      }
    },
    {
      "cell_type": "markdown",
      "source": [
        "## Function to call other functions"
      ],
      "metadata": {
        "id": "73c2pT06neyk"
      }
    },
    {
      "cell_type": "code",
      "execution_count": 169,
      "source": [
        "def pregraph2(t1, t2):\r\n",
        "#function that calls avg_std2 function, and adjusts the standard deviation\r\n",
        "#to be within 0 and 1\r\n",
        "\r\n",
        "  count = 0;\r\n",
        "  counter = avg_std2(dmg_fdd[0], timeofImpact, count, t1, t2);\r\n",
        "  counter = avg_std2(dmg_fdd[1], timeofImpact, counter, t1, t2);\r\n",
        "  counter = avg_std2(dmg_fdd[2], timeofImpact, counter, t1, t2);\r\n",
        "  counter = avg_std2(dmg_fdd[3], timeofImpact, counter, t1, t2);\r\n",
        "  counter = avg_std2(dmg_fdd[4], timeofImpact, counter, t1, t2);\r\n",
        "  aaa = np.concatenate((stdv, stdv))\r\n",
        "  bbb = np.concatenate((height, height))\r\n",
        "  s = lin(aaa, bbb)\r\n",
        "  c = np.array_split(s, 2)\r\n",
        "  return c"
      ],
      "outputs": [],
      "metadata": {
        "id": "ddcwgYC6GCHI"
      }
    },
    {
      "cell_type": "markdown",
      "source": [
        "## Function to graph bar charts"
      ],
      "metadata": {
        "id": "Kb5XksbvnmQ_"
      }
    },
    {
      "cell_type": "code",
      "execution_count": 170,
      "source": [
        "def graph3(start_time, end_time): #function that graphs results, returns figure\r\n",
        "  ccc = pregraph2(start_time, end_time)\r\n",
        "  seg = [\"segment 1\", \"segment 2\", \"segment 3\", \"segment 4\", \"segment 5\"]\r\n",
        "  fig2 = px.bar(x=seg, y=height, error_y=ccc[1], error_y_minus=ccc[0],\r\n",
        "                title=f\"Probability of damage in each segment from {start_time} seconds until {end_time} seconds\",\r\n",
        "                range_y = [0, 1], labels={\"y\": \"P [Damage]\", \"x\": \"\"})\r\n",
        "            \r\n",
        "  \r\n",
        "  \r\n",
        "  return fig2"
      ],
      "outputs": [],
      "metadata": {
        "id": "3gj82wCUGZIe"
      }
    },
    {
      "cell_type": "markdown",
      "source": [
        "## Function to graph FDD data"
      ],
      "metadata": {
        "id": "4fqzudWsnt0i"
      }
    },
    {
      "cell_type": "code",
      "execution_count": 171,
      "source": [
        "from plotly.subplots import make_subplots\r\n",
        "import plotly.graph_objects as go\r\n",
        "#statically graphs FDD data in a subplot\r\n",
        "def FDD_graphs(st, ft):\r\n",
        "  fig = make_subplots(rows=3, cols=2, \r\n",
        "                      subplot_titles=(\"Damage FDD: Segment 1\", \"Damage FDD: Segment 2\", \r\n",
        "                      \"Damage FDD: Segment 3\", \"Damage FDD: Segment 4\", \r\n",
        "                      \"Damage FDD: Segment 5\"))\r\n",
        "\r\n",
        "\r\n",
        "  fig.add_trace(\r\n",
        "      go.Scatter(x = t[st*1000:ft*1000], y=dmg_fdd[0][st*1000:ft*1000,0], name=\"P[Damage] seg 1\"),\r\n",
        "      row = 1, col = 1\r\n",
        "  )\r\n",
        "  fig.add_trace(\r\n",
        "      go.Scatter(x =t[st*1000:ft*1000], y=dmg_fdd[0][st*1000:ft*1000,1], name=\"P[No Damage] seg 1\"),\r\n",
        "      row = 1, col = 1\r\n",
        "  )\r\n",
        "  fig.add_trace(\r\n",
        "      go.Scatter(x =t[st*1000:ft*1000], y=dmg_fdd[1][st*1000:ft*1000,0], name=\"P[Damage] seg 2\"),\r\n",
        "      row = 1, col = 2\r\n",
        "  )\r\n",
        "  fig.add_trace(\r\n",
        "      go.Scatter(x = t[st*1000:ft*1000], y=dmg_fdd[1][st*1000:ft*1000,1], name=\"P[No Damage] seg 2\"),\r\n",
        "      row = 1, col = 2\r\n",
        "  )\r\n",
        "  fig.add_trace(\r\n",
        "      go.Scatter(x = t[st*1000:ft*1000], y=dmg_fdd[2][st*1000:ft*1000,0], name=\"P[Damage] seg 3\"),\r\n",
        "      row = 2, col = 1\r\n",
        "  )\r\n",
        "  fig.add_trace(\r\n",
        "      go.Scatter(x = t[st*1000:ft*1000], y=dmg_fdd[2][st*1000:ft*1000,1], name=\"P[No Damage] seg 3\"),\r\n",
        "      row = 2, col = 1\r\n",
        "  )\r\n",
        "  fig.add_trace(\r\n",
        "      go.Scatter(x = t[st*1000:ft*1000], y=dmg_fdd[3][st*1000:ft*1000,0], name=\"P[Damage] seg 4\"),\r\n",
        "      row = 2, col = 2\r\n",
        "  )\r\n",
        "  fig.add_trace(\r\n",
        "      go.Scatter(x = t[st*1000:ft*1000], y=dmg_fdd[3][st*1000:ft*1000,1], name=\"P[No Damage] seg 4\"),\r\n",
        "      row = 2, col = 2\r\n",
        "   )\r\n",
        "  fig.add_trace(\r\n",
        "      go.Scatter(x = t[st*1000:ft*1000], y=dmg_fdd[4][st*1000:ft*1000,0], name=\"P[Damage] seg 5\"),\r\n",
        "      row = 3, col = 1\r\n",
        "  )\r\n",
        "  fig.add_trace(\r\n",
        "      go.Scatter(x = t[st*1000:ft*1000], y=dmg_fdd[4][st*1000:ft*1000,1], name=\"P[No Damage] seg 5\"),\r\n",
        "      row = 3, col =1\r\n",
        "  )\r\n",
        "\r\n",
        "\r\n",
        "  #fig.update_layout(height=1000, width=900, title_text=\"FDD data for damage in each segment\")\r\n",
        "  return fig"
      ],
      "outputs": [],
      "metadata": {
        "id": "QgjLrkomfdGe"
      }
    },
    {
      "cell_type": "markdown",
      "source": [
        "## Creating explanation figure for bar and line chart\n",
        "Gets pngs from github repository in which pictures are uploaded"
      ],
      "metadata": {
        "id": "U5y7WA2kn09B"
      }
    },
    {
      "cell_type": "code",
      "execution_count": 172,
      "source": [
        "# Create figure\r\n",
        "fig34 = go.Figure()\r\n",
        "\r\n",
        "# Constants\r\n",
        "img_width = 2339\r\n",
        "img_height = 1654\r\n",
        "scale_factor = 0.5\r\n",
        "\r\n",
        "# Add invisible scatter trace.\r\n",
        "# This trace is added to help the autoresize logic work.\r\n",
        "fig34.add_trace(\r\n",
        "    go.Scatter(\r\n",
        "        x=[0, img_width * scale_factor],\r\n",
        "        y=[0, img_height * scale_factor],\r\n",
        "        mode=\"markers\",\r\n",
        "        marker_opacity=0\r\n",
        "    )\r\n",
        ")\r\n",
        "\r\n",
        "# Configure axes\r\n",
        "fig34.update_xaxes(\r\n",
        "    visible=False,\r\n",
        "    range=[0, img_width * scale_factor]\r\n",
        ")\r\n",
        "\r\n",
        "fig34.update_yaxes(\r\n",
        "    visible=False,\r\n",
        "    range=[0, img_height * scale_factor],\r\n",
        "    # the scaleanchor attribute ensures that the aspect ratio stays constant\r\n",
        "    scaleanchor=\"x\"\r\n",
        ")\r\n",
        "\r\n",
        "# Add image\r\n",
        "fig34.add_layout_image(\r\n",
        "    dict(\r\n",
        "        x=0,\r\n",
        "        sizex=img_width * scale_factor,\r\n",
        "        y=img_height * scale_factor,\r\n",
        "        sizey=img_height * scale_factor,\r\n",
        "        xref=\"x\",\r\n",
        "        yref=\"y\",\r\n",
        "        opacity=1.0,\r\n",
        "        layer=\"below\",\r\n",
        "        sizing=\"stretch\",\r\n",
        "        source=\"https://raw.githubusercontent.com/BernardoAlvarenga/picture/main/test%20(1)-1.png\")\r\n",
        ")\r\n",
        "\r\n",
        "# Configure other layout\r\n",
        "fig34.update_layout(\r\n",
        "    width=img_width * scale_factor,\r\n",
        "    height=img_height * scale_factor,\r\n",
        "    margin={\"l\": 0, \"r\": 0, \"t\": 0, \"b\": 0},\r\n",
        ")\r\n"
      ],
      "outputs": [
        {
          "output_type": "display_data",
          "data": {
            "application/vnd.plotly.v1+json": {
              "config": {
                "plotlyServerURL": "https://plot.ly"
              },
              "data": [
                {
                  "marker": {
                    "opacity": 0
                  },
                  "mode": "markers",
                  "type": "scatter",
                  "x": [
                    0,
                    1169.5
                  ],
                  "y": [
                    0,
                    827
                  ]
                }
              ],
              "layout": {
                "height": 827,
                "images": [
                  {
                    "layer": "below",
                    "opacity": 1,
                    "sizex": 1169.5,
                    "sizey": 827,
                    "sizing": "stretch",
                    "source": "https://raw.githubusercontent.com/BernardoAlvarenga/picture/main/test%20(1)-1.png",
                    "x": 0,
                    "xref": "x",
                    "y": 827,
                    "yref": "y"
                  }
                ],
                "margin": {
                  "b": 0,
                  "l": 0,
                  "r": 0,
                  "t": 0
                },
                "template": {
                  "data": {
                    "bar": [
                      {
                        "error_x": {
                          "color": "#2a3f5f"
                        },
                        "error_y": {
                          "color": "#2a3f5f"
                        },
                        "marker": {
                          "line": {
                            "color": "#E5ECF6",
                            "width": 0.5
                          },
                          "pattern": {
                            "fillmode": "overlay",
                            "size": 10,
                            "solidity": 0.2
                          }
                        },
                        "type": "bar"
                      }
                    ],
                    "barpolar": [
                      {
                        "marker": {
                          "line": {
                            "color": "#E5ECF6",
                            "width": 0.5
                          },
                          "pattern": {
                            "fillmode": "overlay",
                            "size": 10,
                            "solidity": 0.2
                          }
                        },
                        "type": "barpolar"
                      }
                    ],
                    "carpet": [
                      {
                        "aaxis": {
                          "endlinecolor": "#2a3f5f",
                          "gridcolor": "white",
                          "linecolor": "white",
                          "minorgridcolor": "white",
                          "startlinecolor": "#2a3f5f"
                        },
                        "baxis": {
                          "endlinecolor": "#2a3f5f",
                          "gridcolor": "white",
                          "linecolor": "white",
                          "minorgridcolor": "white",
                          "startlinecolor": "#2a3f5f"
                        },
                        "type": "carpet"
                      }
                    ],
                    "choropleth": [
                      {
                        "colorbar": {
                          "outlinewidth": 0,
                          "ticks": ""
                        },
                        "type": "choropleth"
                      }
                    ],
                    "contour": [
                      {
                        "colorbar": {
                          "outlinewidth": 0,
                          "ticks": ""
                        },
                        "colorscale": [
                          [
                            0,
                            "#0d0887"
                          ],
                          [
                            0.1111111111111111,
                            "#46039f"
                          ],
                          [
                            0.2222222222222222,
                            "#7201a8"
                          ],
                          [
                            0.3333333333333333,
                            "#9c179e"
                          ],
                          [
                            0.4444444444444444,
                            "#bd3786"
                          ],
                          [
                            0.5555555555555556,
                            "#d8576b"
                          ],
                          [
                            0.6666666666666666,
                            "#ed7953"
                          ],
                          [
                            0.7777777777777778,
                            "#fb9f3a"
                          ],
                          [
                            0.8888888888888888,
                            "#fdca26"
                          ],
                          [
                            1,
                            "#f0f921"
                          ]
                        ],
                        "type": "contour"
                      }
                    ],
                    "contourcarpet": [
                      {
                        "colorbar": {
                          "outlinewidth": 0,
                          "ticks": ""
                        },
                        "type": "contourcarpet"
                      }
                    ],
                    "heatmap": [
                      {
                        "colorbar": {
                          "outlinewidth": 0,
                          "ticks": ""
                        },
                        "colorscale": [
                          [
                            0,
                            "#0d0887"
                          ],
                          [
                            0.1111111111111111,
                            "#46039f"
                          ],
                          [
                            0.2222222222222222,
                            "#7201a8"
                          ],
                          [
                            0.3333333333333333,
                            "#9c179e"
                          ],
                          [
                            0.4444444444444444,
                            "#bd3786"
                          ],
                          [
                            0.5555555555555556,
                            "#d8576b"
                          ],
                          [
                            0.6666666666666666,
                            "#ed7953"
                          ],
                          [
                            0.7777777777777778,
                            "#fb9f3a"
                          ],
                          [
                            0.8888888888888888,
                            "#fdca26"
                          ],
                          [
                            1,
                            "#f0f921"
                          ]
                        ],
                        "type": "heatmap"
                      }
                    ],
                    "heatmapgl": [
                      {
                        "colorbar": {
                          "outlinewidth": 0,
                          "ticks": ""
                        },
                        "colorscale": [
                          [
                            0,
                            "#0d0887"
                          ],
                          [
                            0.1111111111111111,
                            "#46039f"
                          ],
                          [
                            0.2222222222222222,
                            "#7201a8"
                          ],
                          [
                            0.3333333333333333,
                            "#9c179e"
                          ],
                          [
                            0.4444444444444444,
                            "#bd3786"
                          ],
                          [
                            0.5555555555555556,
                            "#d8576b"
                          ],
                          [
                            0.6666666666666666,
                            "#ed7953"
                          ],
                          [
                            0.7777777777777778,
                            "#fb9f3a"
                          ],
                          [
                            0.8888888888888888,
                            "#fdca26"
                          ],
                          [
                            1,
                            "#f0f921"
                          ]
                        ],
                        "type": "heatmapgl"
                      }
                    ],
                    "histogram": [
                      {
                        "marker": {
                          "pattern": {
                            "fillmode": "overlay",
                            "size": 10,
                            "solidity": 0.2
                          }
                        },
                        "type": "histogram"
                      }
                    ],
                    "histogram2d": [
                      {
                        "colorbar": {
                          "outlinewidth": 0,
                          "ticks": ""
                        },
                        "colorscale": [
                          [
                            0,
                            "#0d0887"
                          ],
                          [
                            0.1111111111111111,
                            "#46039f"
                          ],
                          [
                            0.2222222222222222,
                            "#7201a8"
                          ],
                          [
                            0.3333333333333333,
                            "#9c179e"
                          ],
                          [
                            0.4444444444444444,
                            "#bd3786"
                          ],
                          [
                            0.5555555555555556,
                            "#d8576b"
                          ],
                          [
                            0.6666666666666666,
                            "#ed7953"
                          ],
                          [
                            0.7777777777777778,
                            "#fb9f3a"
                          ],
                          [
                            0.8888888888888888,
                            "#fdca26"
                          ],
                          [
                            1,
                            "#f0f921"
                          ]
                        ],
                        "type": "histogram2d"
                      }
                    ],
                    "histogram2dcontour": [
                      {
                        "colorbar": {
                          "outlinewidth": 0,
                          "ticks": ""
                        },
                        "colorscale": [
                          [
                            0,
                            "#0d0887"
                          ],
                          [
                            0.1111111111111111,
                            "#46039f"
                          ],
                          [
                            0.2222222222222222,
                            "#7201a8"
                          ],
                          [
                            0.3333333333333333,
                            "#9c179e"
                          ],
                          [
                            0.4444444444444444,
                            "#bd3786"
                          ],
                          [
                            0.5555555555555556,
                            "#d8576b"
                          ],
                          [
                            0.6666666666666666,
                            "#ed7953"
                          ],
                          [
                            0.7777777777777778,
                            "#fb9f3a"
                          ],
                          [
                            0.8888888888888888,
                            "#fdca26"
                          ],
                          [
                            1,
                            "#f0f921"
                          ]
                        ],
                        "type": "histogram2dcontour"
                      }
                    ],
                    "mesh3d": [
                      {
                        "colorbar": {
                          "outlinewidth": 0,
                          "ticks": ""
                        },
                        "type": "mesh3d"
                      }
                    ],
                    "parcoords": [
                      {
                        "line": {
                          "colorbar": {
                            "outlinewidth": 0,
                            "ticks": ""
                          }
                        },
                        "type": "parcoords"
                      }
                    ],
                    "pie": [
                      {
                        "automargin": true,
                        "type": "pie"
                      }
                    ],
                    "scatter": [
                      {
                        "marker": {
                          "colorbar": {
                            "outlinewidth": 0,
                            "ticks": ""
                          }
                        },
                        "type": "scatter"
                      }
                    ],
                    "scatter3d": [
                      {
                        "line": {
                          "colorbar": {
                            "outlinewidth": 0,
                            "ticks": ""
                          }
                        },
                        "marker": {
                          "colorbar": {
                            "outlinewidth": 0,
                            "ticks": ""
                          }
                        },
                        "type": "scatter3d"
                      }
                    ],
                    "scattercarpet": [
                      {
                        "marker": {
                          "colorbar": {
                            "outlinewidth": 0,
                            "ticks": ""
                          }
                        },
                        "type": "scattercarpet"
                      }
                    ],
                    "scattergeo": [
                      {
                        "marker": {
                          "colorbar": {
                            "outlinewidth": 0,
                            "ticks": ""
                          }
                        },
                        "type": "scattergeo"
                      }
                    ],
                    "scattergl": [
                      {
                        "marker": {
                          "colorbar": {
                            "outlinewidth": 0,
                            "ticks": ""
                          }
                        },
                        "type": "scattergl"
                      }
                    ],
                    "scattermapbox": [
                      {
                        "marker": {
                          "colorbar": {
                            "outlinewidth": 0,
                            "ticks": ""
                          }
                        },
                        "type": "scattermapbox"
                      }
                    ],
                    "scatterpolar": [
                      {
                        "marker": {
                          "colorbar": {
                            "outlinewidth": 0,
                            "ticks": ""
                          }
                        },
                        "type": "scatterpolar"
                      }
                    ],
                    "scatterpolargl": [
                      {
                        "marker": {
                          "colorbar": {
                            "outlinewidth": 0,
                            "ticks": ""
                          }
                        },
                        "type": "scatterpolargl"
                      }
                    ],
                    "scatterternary": [
                      {
                        "marker": {
                          "colorbar": {
                            "outlinewidth": 0,
                            "ticks": ""
                          }
                        },
                        "type": "scatterternary"
                      }
                    ],
                    "surface": [
                      {
                        "colorbar": {
                          "outlinewidth": 0,
                          "ticks": ""
                        },
                        "colorscale": [
                          [
                            0,
                            "#0d0887"
                          ],
                          [
                            0.1111111111111111,
                            "#46039f"
                          ],
                          [
                            0.2222222222222222,
                            "#7201a8"
                          ],
                          [
                            0.3333333333333333,
                            "#9c179e"
                          ],
                          [
                            0.4444444444444444,
                            "#bd3786"
                          ],
                          [
                            0.5555555555555556,
                            "#d8576b"
                          ],
                          [
                            0.6666666666666666,
                            "#ed7953"
                          ],
                          [
                            0.7777777777777778,
                            "#fb9f3a"
                          ],
                          [
                            0.8888888888888888,
                            "#fdca26"
                          ],
                          [
                            1,
                            "#f0f921"
                          ]
                        ],
                        "type": "surface"
                      }
                    ],
                    "table": [
                      {
                        "cells": {
                          "fill": {
                            "color": "#EBF0F8"
                          },
                          "line": {
                            "color": "white"
                          }
                        },
                        "header": {
                          "fill": {
                            "color": "#C8D4E3"
                          },
                          "line": {
                            "color": "white"
                          }
                        },
                        "type": "table"
                      }
                    ]
                  },
                  "layout": {
                    "annotationdefaults": {
                      "arrowcolor": "#2a3f5f",
                      "arrowhead": 0,
                      "arrowwidth": 1
                    },
                    "autotypenumbers": "strict",
                    "coloraxis": {
                      "colorbar": {
                        "outlinewidth": 0,
                        "ticks": ""
                      }
                    },
                    "colorscale": {
                      "diverging": [
                        [
                          0,
                          "#8e0152"
                        ],
                        [
                          0.1,
                          "#c51b7d"
                        ],
                        [
                          0.2,
                          "#de77ae"
                        ],
                        [
                          0.3,
                          "#f1b6da"
                        ],
                        [
                          0.4,
                          "#fde0ef"
                        ],
                        [
                          0.5,
                          "#f7f7f7"
                        ],
                        [
                          0.6,
                          "#e6f5d0"
                        ],
                        [
                          0.7,
                          "#b8e186"
                        ],
                        [
                          0.8,
                          "#7fbc41"
                        ],
                        [
                          0.9,
                          "#4d9221"
                        ],
                        [
                          1,
                          "#276419"
                        ]
                      ],
                      "sequential": [
                        [
                          0,
                          "#0d0887"
                        ],
                        [
                          0.1111111111111111,
                          "#46039f"
                        ],
                        [
                          0.2222222222222222,
                          "#7201a8"
                        ],
                        [
                          0.3333333333333333,
                          "#9c179e"
                        ],
                        [
                          0.4444444444444444,
                          "#bd3786"
                        ],
                        [
                          0.5555555555555556,
                          "#d8576b"
                        ],
                        [
                          0.6666666666666666,
                          "#ed7953"
                        ],
                        [
                          0.7777777777777778,
                          "#fb9f3a"
                        ],
                        [
                          0.8888888888888888,
                          "#fdca26"
                        ],
                        [
                          1,
                          "#f0f921"
                        ]
                      ],
                      "sequentialminus": [
                        [
                          0,
                          "#0d0887"
                        ],
                        [
                          0.1111111111111111,
                          "#46039f"
                        ],
                        [
                          0.2222222222222222,
                          "#7201a8"
                        ],
                        [
                          0.3333333333333333,
                          "#9c179e"
                        ],
                        [
                          0.4444444444444444,
                          "#bd3786"
                        ],
                        [
                          0.5555555555555556,
                          "#d8576b"
                        ],
                        [
                          0.6666666666666666,
                          "#ed7953"
                        ],
                        [
                          0.7777777777777778,
                          "#fb9f3a"
                        ],
                        [
                          0.8888888888888888,
                          "#fdca26"
                        ],
                        [
                          1,
                          "#f0f921"
                        ]
                      ]
                    },
                    "colorway": [
                      "#636efa",
                      "#EF553B",
                      "#00cc96",
                      "#ab63fa",
                      "#FFA15A",
                      "#19d3f3",
                      "#FF6692",
                      "#B6E880",
                      "#FF97FF",
                      "#FECB52"
                    ],
                    "font": {
                      "color": "#2a3f5f"
                    },
                    "geo": {
                      "bgcolor": "white",
                      "lakecolor": "white",
                      "landcolor": "#E5ECF6",
                      "showlakes": true,
                      "showland": true,
                      "subunitcolor": "white"
                    },
                    "hoverlabel": {
                      "align": "left"
                    },
                    "hovermode": "closest",
                    "mapbox": {
                      "style": "light"
                    },
                    "paper_bgcolor": "white",
                    "plot_bgcolor": "#E5ECF6",
                    "polar": {
                      "angularaxis": {
                        "gridcolor": "white",
                        "linecolor": "white",
                        "ticks": ""
                      },
                      "bgcolor": "#E5ECF6",
                      "radialaxis": {
                        "gridcolor": "white",
                        "linecolor": "white",
                        "ticks": ""
                      }
                    },
                    "scene": {
                      "xaxis": {
                        "backgroundcolor": "#E5ECF6",
                        "gridcolor": "white",
                        "gridwidth": 2,
                        "linecolor": "white",
                        "showbackground": true,
                        "ticks": "",
                        "zerolinecolor": "white"
                      },
                      "yaxis": {
                        "backgroundcolor": "#E5ECF6",
                        "gridcolor": "white",
                        "gridwidth": 2,
                        "linecolor": "white",
                        "showbackground": true,
                        "ticks": "",
                        "zerolinecolor": "white"
                      },
                      "zaxis": {
                        "backgroundcolor": "#E5ECF6",
                        "gridcolor": "white",
                        "gridwidth": 2,
                        "linecolor": "white",
                        "showbackground": true,
                        "ticks": "",
                        "zerolinecolor": "white"
                      }
                    },
                    "shapedefaults": {
                      "line": {
                        "color": "#2a3f5f"
                      }
                    },
                    "ternary": {
                      "aaxis": {
                        "gridcolor": "white",
                        "linecolor": "white",
                        "ticks": ""
                      },
                      "baxis": {
                        "gridcolor": "white",
                        "linecolor": "white",
                        "ticks": ""
                      },
                      "bgcolor": "#E5ECF6",
                      "caxis": {
                        "gridcolor": "white",
                        "linecolor": "white",
                        "ticks": ""
                      }
                    },
                    "title": {
                      "x": 0.05
                    },
                    "xaxis": {
                      "automargin": true,
                      "gridcolor": "white",
                      "linecolor": "white",
                      "ticks": "",
                      "title": {
                        "standoff": 15
                      },
                      "zerolinecolor": "white",
                      "zerolinewidth": 2
                    },
                    "yaxis": {
                      "automargin": true,
                      "gridcolor": "white",
                      "linecolor": "white",
                      "ticks": "",
                      "title": {
                        "standoff": 15
                      },
                      "zerolinecolor": "white",
                      "zerolinewidth": 2
                    }
                  }
                },
                "width": 1169.5,
                "xaxis": {
                  "range": [
                    0,
                    1169.5
                  ],
                  "visible": false
                },
                "yaxis": {
                  "range": [
                    0,
                    827
                  ],
                  "scaleanchor": "x",
                  "visible": false
                }
              }
            }
          },
          "metadata": {}
        }
      ],
      "metadata": {
        "id": "L8jrkv3mwO50",
        "colab": {
          "base_uri": "https://localhost:8080/",
          "height": 864
        },
        "outputId": "d6658efd-3908-4bd4-ad9c-82356261ab35"
      }
    },
    {
      "cell_type": "code",
      "execution_count": 173,
      "source": [
        "# Create figure\r\n",
        "fig35 = go.Figure()\r\n",
        "\r\n",
        "# Constants\r\n",
        "img_width = 2339\r\n",
        "img_height = 1654\r\n",
        "scale_factor = 0.5\r\n",
        "\r\n",
        "# Add invisible scatter trace.\r\n",
        "# This trace is added to help the autoresize logic work.\r\n",
        "fig35.add_trace(\r\n",
        "    go.Scatter(\r\n",
        "        x=[0, img_width * scale_factor],\r\n",
        "        y=[0, img_height * scale_factor],\r\n",
        "        mode=\"markers\",\r\n",
        "        marker_opacity=0\r\n",
        "    )\r\n",
        ")\r\n",
        "\r\n",
        "# Configure axes\r\n",
        "fig35.update_xaxes(\r\n",
        "    visible=False,\r\n",
        "    range=[0, img_width * scale_factor]\r\n",
        ")\r\n",
        "\r\n",
        "fig35.update_yaxes(\r\n",
        "    visible=False,\r\n",
        "    range=[0, img_height * scale_factor],\r\n",
        "    # the scaleanchor attribute ensures that the aspect ratio stays constant\r\n",
        "    scaleanchor=\"x\"\r\n",
        ")\r\n",
        "\r\n",
        "# Add image\r\n",
        "fig35.add_layout_image(\r\n",
        "    dict(\r\n",
        "        x=0,\r\n",
        "        sizex=img_width * scale_factor,\r\n",
        "        y=img_height * scale_factor,\r\n",
        "        sizey=img_height * scale_factor,\r\n",
        "        xref=\"x\",\r\n",
        "        yref=\"y\",\r\n",
        "        opacity=1.0,\r\n",
        "        layer=\"below\",\r\n",
        "        sizing=\"stretch\",\r\n",
        "        source=\"https://raw.githubusercontent.com/BernardoAlvarenga/picture/main/Line%20Graphs%20Explanation-1.png\")\r\n",
        ")\r\n",
        "\r\n",
        "# Configure other layout\r\n",
        "fig35.update_layout(\r\n",
        "    width=img_width * scale_factor,\r\n",
        "    height=img_height * scale_factor,\r\n",
        "    margin={\"l\": 0, \"r\": 0, \"t\": 0, \"b\": 0},\r\n",
        ")\r\n",
        "\r\n",
        "# Disable the autosize on double click because it adds unwanted margins around the image\r\n",
        "# More detail: https://plotly.com/python/configuration-options/\r\n"
      ],
      "outputs": [
        {
          "output_type": "display_data",
          "data": {
            "application/vnd.plotly.v1+json": {
              "config": {
                "plotlyServerURL": "https://plot.ly"
              },
              "data": [
                {
                  "marker": {
                    "opacity": 0
                  },
                  "mode": "markers",
                  "type": "scatter",
                  "x": [
                    0,
                    1169.5
                  ],
                  "y": [
                    0,
                    827
                  ]
                }
              ],
              "layout": {
                "height": 827,
                "images": [
                  {
                    "layer": "below",
                    "opacity": 1,
                    "sizex": 1169.5,
                    "sizey": 827,
                    "sizing": "stretch",
                    "source": "https://raw.githubusercontent.com/BernardoAlvarenga/picture/main/Line%20Graphs%20Explanation-1.png",
                    "x": 0,
                    "xref": "x",
                    "y": 827,
                    "yref": "y"
                  }
                ],
                "margin": {
                  "b": 0,
                  "l": 0,
                  "r": 0,
                  "t": 0
                },
                "template": {
                  "data": {
                    "bar": [
                      {
                        "error_x": {
                          "color": "#2a3f5f"
                        },
                        "error_y": {
                          "color": "#2a3f5f"
                        },
                        "marker": {
                          "line": {
                            "color": "#E5ECF6",
                            "width": 0.5
                          },
                          "pattern": {
                            "fillmode": "overlay",
                            "size": 10,
                            "solidity": 0.2
                          }
                        },
                        "type": "bar"
                      }
                    ],
                    "barpolar": [
                      {
                        "marker": {
                          "line": {
                            "color": "#E5ECF6",
                            "width": 0.5
                          },
                          "pattern": {
                            "fillmode": "overlay",
                            "size": 10,
                            "solidity": 0.2
                          }
                        },
                        "type": "barpolar"
                      }
                    ],
                    "carpet": [
                      {
                        "aaxis": {
                          "endlinecolor": "#2a3f5f",
                          "gridcolor": "white",
                          "linecolor": "white",
                          "minorgridcolor": "white",
                          "startlinecolor": "#2a3f5f"
                        },
                        "baxis": {
                          "endlinecolor": "#2a3f5f",
                          "gridcolor": "white",
                          "linecolor": "white",
                          "minorgridcolor": "white",
                          "startlinecolor": "#2a3f5f"
                        },
                        "type": "carpet"
                      }
                    ],
                    "choropleth": [
                      {
                        "colorbar": {
                          "outlinewidth": 0,
                          "ticks": ""
                        },
                        "type": "choropleth"
                      }
                    ],
                    "contour": [
                      {
                        "colorbar": {
                          "outlinewidth": 0,
                          "ticks": ""
                        },
                        "colorscale": [
                          [
                            0,
                            "#0d0887"
                          ],
                          [
                            0.1111111111111111,
                            "#46039f"
                          ],
                          [
                            0.2222222222222222,
                            "#7201a8"
                          ],
                          [
                            0.3333333333333333,
                            "#9c179e"
                          ],
                          [
                            0.4444444444444444,
                            "#bd3786"
                          ],
                          [
                            0.5555555555555556,
                            "#d8576b"
                          ],
                          [
                            0.6666666666666666,
                            "#ed7953"
                          ],
                          [
                            0.7777777777777778,
                            "#fb9f3a"
                          ],
                          [
                            0.8888888888888888,
                            "#fdca26"
                          ],
                          [
                            1,
                            "#f0f921"
                          ]
                        ],
                        "type": "contour"
                      }
                    ],
                    "contourcarpet": [
                      {
                        "colorbar": {
                          "outlinewidth": 0,
                          "ticks": ""
                        },
                        "type": "contourcarpet"
                      }
                    ],
                    "heatmap": [
                      {
                        "colorbar": {
                          "outlinewidth": 0,
                          "ticks": ""
                        },
                        "colorscale": [
                          [
                            0,
                            "#0d0887"
                          ],
                          [
                            0.1111111111111111,
                            "#46039f"
                          ],
                          [
                            0.2222222222222222,
                            "#7201a8"
                          ],
                          [
                            0.3333333333333333,
                            "#9c179e"
                          ],
                          [
                            0.4444444444444444,
                            "#bd3786"
                          ],
                          [
                            0.5555555555555556,
                            "#d8576b"
                          ],
                          [
                            0.6666666666666666,
                            "#ed7953"
                          ],
                          [
                            0.7777777777777778,
                            "#fb9f3a"
                          ],
                          [
                            0.8888888888888888,
                            "#fdca26"
                          ],
                          [
                            1,
                            "#f0f921"
                          ]
                        ],
                        "type": "heatmap"
                      }
                    ],
                    "heatmapgl": [
                      {
                        "colorbar": {
                          "outlinewidth": 0,
                          "ticks": ""
                        },
                        "colorscale": [
                          [
                            0,
                            "#0d0887"
                          ],
                          [
                            0.1111111111111111,
                            "#46039f"
                          ],
                          [
                            0.2222222222222222,
                            "#7201a8"
                          ],
                          [
                            0.3333333333333333,
                            "#9c179e"
                          ],
                          [
                            0.4444444444444444,
                            "#bd3786"
                          ],
                          [
                            0.5555555555555556,
                            "#d8576b"
                          ],
                          [
                            0.6666666666666666,
                            "#ed7953"
                          ],
                          [
                            0.7777777777777778,
                            "#fb9f3a"
                          ],
                          [
                            0.8888888888888888,
                            "#fdca26"
                          ],
                          [
                            1,
                            "#f0f921"
                          ]
                        ],
                        "type": "heatmapgl"
                      }
                    ],
                    "histogram": [
                      {
                        "marker": {
                          "pattern": {
                            "fillmode": "overlay",
                            "size": 10,
                            "solidity": 0.2
                          }
                        },
                        "type": "histogram"
                      }
                    ],
                    "histogram2d": [
                      {
                        "colorbar": {
                          "outlinewidth": 0,
                          "ticks": ""
                        },
                        "colorscale": [
                          [
                            0,
                            "#0d0887"
                          ],
                          [
                            0.1111111111111111,
                            "#46039f"
                          ],
                          [
                            0.2222222222222222,
                            "#7201a8"
                          ],
                          [
                            0.3333333333333333,
                            "#9c179e"
                          ],
                          [
                            0.4444444444444444,
                            "#bd3786"
                          ],
                          [
                            0.5555555555555556,
                            "#d8576b"
                          ],
                          [
                            0.6666666666666666,
                            "#ed7953"
                          ],
                          [
                            0.7777777777777778,
                            "#fb9f3a"
                          ],
                          [
                            0.8888888888888888,
                            "#fdca26"
                          ],
                          [
                            1,
                            "#f0f921"
                          ]
                        ],
                        "type": "histogram2d"
                      }
                    ],
                    "histogram2dcontour": [
                      {
                        "colorbar": {
                          "outlinewidth": 0,
                          "ticks": ""
                        },
                        "colorscale": [
                          [
                            0,
                            "#0d0887"
                          ],
                          [
                            0.1111111111111111,
                            "#46039f"
                          ],
                          [
                            0.2222222222222222,
                            "#7201a8"
                          ],
                          [
                            0.3333333333333333,
                            "#9c179e"
                          ],
                          [
                            0.4444444444444444,
                            "#bd3786"
                          ],
                          [
                            0.5555555555555556,
                            "#d8576b"
                          ],
                          [
                            0.6666666666666666,
                            "#ed7953"
                          ],
                          [
                            0.7777777777777778,
                            "#fb9f3a"
                          ],
                          [
                            0.8888888888888888,
                            "#fdca26"
                          ],
                          [
                            1,
                            "#f0f921"
                          ]
                        ],
                        "type": "histogram2dcontour"
                      }
                    ],
                    "mesh3d": [
                      {
                        "colorbar": {
                          "outlinewidth": 0,
                          "ticks": ""
                        },
                        "type": "mesh3d"
                      }
                    ],
                    "parcoords": [
                      {
                        "line": {
                          "colorbar": {
                            "outlinewidth": 0,
                            "ticks": ""
                          }
                        },
                        "type": "parcoords"
                      }
                    ],
                    "pie": [
                      {
                        "automargin": true,
                        "type": "pie"
                      }
                    ],
                    "scatter": [
                      {
                        "marker": {
                          "colorbar": {
                            "outlinewidth": 0,
                            "ticks": ""
                          }
                        },
                        "type": "scatter"
                      }
                    ],
                    "scatter3d": [
                      {
                        "line": {
                          "colorbar": {
                            "outlinewidth": 0,
                            "ticks": ""
                          }
                        },
                        "marker": {
                          "colorbar": {
                            "outlinewidth": 0,
                            "ticks": ""
                          }
                        },
                        "type": "scatter3d"
                      }
                    ],
                    "scattercarpet": [
                      {
                        "marker": {
                          "colorbar": {
                            "outlinewidth": 0,
                            "ticks": ""
                          }
                        },
                        "type": "scattercarpet"
                      }
                    ],
                    "scattergeo": [
                      {
                        "marker": {
                          "colorbar": {
                            "outlinewidth": 0,
                            "ticks": ""
                          }
                        },
                        "type": "scattergeo"
                      }
                    ],
                    "scattergl": [
                      {
                        "marker": {
                          "colorbar": {
                            "outlinewidth": 0,
                            "ticks": ""
                          }
                        },
                        "type": "scattergl"
                      }
                    ],
                    "scattermapbox": [
                      {
                        "marker": {
                          "colorbar": {
                            "outlinewidth": 0,
                            "ticks": ""
                          }
                        },
                        "type": "scattermapbox"
                      }
                    ],
                    "scatterpolar": [
                      {
                        "marker": {
                          "colorbar": {
                            "outlinewidth": 0,
                            "ticks": ""
                          }
                        },
                        "type": "scatterpolar"
                      }
                    ],
                    "scatterpolargl": [
                      {
                        "marker": {
                          "colorbar": {
                            "outlinewidth": 0,
                            "ticks": ""
                          }
                        },
                        "type": "scatterpolargl"
                      }
                    ],
                    "scatterternary": [
                      {
                        "marker": {
                          "colorbar": {
                            "outlinewidth": 0,
                            "ticks": ""
                          }
                        },
                        "type": "scatterternary"
                      }
                    ],
                    "surface": [
                      {
                        "colorbar": {
                          "outlinewidth": 0,
                          "ticks": ""
                        },
                        "colorscale": [
                          [
                            0,
                            "#0d0887"
                          ],
                          [
                            0.1111111111111111,
                            "#46039f"
                          ],
                          [
                            0.2222222222222222,
                            "#7201a8"
                          ],
                          [
                            0.3333333333333333,
                            "#9c179e"
                          ],
                          [
                            0.4444444444444444,
                            "#bd3786"
                          ],
                          [
                            0.5555555555555556,
                            "#d8576b"
                          ],
                          [
                            0.6666666666666666,
                            "#ed7953"
                          ],
                          [
                            0.7777777777777778,
                            "#fb9f3a"
                          ],
                          [
                            0.8888888888888888,
                            "#fdca26"
                          ],
                          [
                            1,
                            "#f0f921"
                          ]
                        ],
                        "type": "surface"
                      }
                    ],
                    "table": [
                      {
                        "cells": {
                          "fill": {
                            "color": "#EBF0F8"
                          },
                          "line": {
                            "color": "white"
                          }
                        },
                        "header": {
                          "fill": {
                            "color": "#C8D4E3"
                          },
                          "line": {
                            "color": "white"
                          }
                        },
                        "type": "table"
                      }
                    ]
                  },
                  "layout": {
                    "annotationdefaults": {
                      "arrowcolor": "#2a3f5f",
                      "arrowhead": 0,
                      "arrowwidth": 1
                    },
                    "autotypenumbers": "strict",
                    "coloraxis": {
                      "colorbar": {
                        "outlinewidth": 0,
                        "ticks": ""
                      }
                    },
                    "colorscale": {
                      "diverging": [
                        [
                          0,
                          "#8e0152"
                        ],
                        [
                          0.1,
                          "#c51b7d"
                        ],
                        [
                          0.2,
                          "#de77ae"
                        ],
                        [
                          0.3,
                          "#f1b6da"
                        ],
                        [
                          0.4,
                          "#fde0ef"
                        ],
                        [
                          0.5,
                          "#f7f7f7"
                        ],
                        [
                          0.6,
                          "#e6f5d0"
                        ],
                        [
                          0.7,
                          "#b8e186"
                        ],
                        [
                          0.8,
                          "#7fbc41"
                        ],
                        [
                          0.9,
                          "#4d9221"
                        ],
                        [
                          1,
                          "#276419"
                        ]
                      ],
                      "sequential": [
                        [
                          0,
                          "#0d0887"
                        ],
                        [
                          0.1111111111111111,
                          "#46039f"
                        ],
                        [
                          0.2222222222222222,
                          "#7201a8"
                        ],
                        [
                          0.3333333333333333,
                          "#9c179e"
                        ],
                        [
                          0.4444444444444444,
                          "#bd3786"
                        ],
                        [
                          0.5555555555555556,
                          "#d8576b"
                        ],
                        [
                          0.6666666666666666,
                          "#ed7953"
                        ],
                        [
                          0.7777777777777778,
                          "#fb9f3a"
                        ],
                        [
                          0.8888888888888888,
                          "#fdca26"
                        ],
                        [
                          1,
                          "#f0f921"
                        ]
                      ],
                      "sequentialminus": [
                        [
                          0,
                          "#0d0887"
                        ],
                        [
                          0.1111111111111111,
                          "#46039f"
                        ],
                        [
                          0.2222222222222222,
                          "#7201a8"
                        ],
                        [
                          0.3333333333333333,
                          "#9c179e"
                        ],
                        [
                          0.4444444444444444,
                          "#bd3786"
                        ],
                        [
                          0.5555555555555556,
                          "#d8576b"
                        ],
                        [
                          0.6666666666666666,
                          "#ed7953"
                        ],
                        [
                          0.7777777777777778,
                          "#fb9f3a"
                        ],
                        [
                          0.8888888888888888,
                          "#fdca26"
                        ],
                        [
                          1,
                          "#f0f921"
                        ]
                      ]
                    },
                    "colorway": [
                      "#636efa",
                      "#EF553B",
                      "#00cc96",
                      "#ab63fa",
                      "#FFA15A",
                      "#19d3f3",
                      "#FF6692",
                      "#B6E880",
                      "#FF97FF",
                      "#FECB52"
                    ],
                    "font": {
                      "color": "#2a3f5f"
                    },
                    "geo": {
                      "bgcolor": "white",
                      "lakecolor": "white",
                      "landcolor": "#E5ECF6",
                      "showlakes": true,
                      "showland": true,
                      "subunitcolor": "white"
                    },
                    "hoverlabel": {
                      "align": "left"
                    },
                    "hovermode": "closest",
                    "mapbox": {
                      "style": "light"
                    },
                    "paper_bgcolor": "white",
                    "plot_bgcolor": "#E5ECF6",
                    "polar": {
                      "angularaxis": {
                        "gridcolor": "white",
                        "linecolor": "white",
                        "ticks": ""
                      },
                      "bgcolor": "#E5ECF6",
                      "radialaxis": {
                        "gridcolor": "white",
                        "linecolor": "white",
                        "ticks": ""
                      }
                    },
                    "scene": {
                      "xaxis": {
                        "backgroundcolor": "#E5ECF6",
                        "gridcolor": "white",
                        "gridwidth": 2,
                        "linecolor": "white",
                        "showbackground": true,
                        "ticks": "",
                        "zerolinecolor": "white"
                      },
                      "yaxis": {
                        "backgroundcolor": "#E5ECF6",
                        "gridcolor": "white",
                        "gridwidth": 2,
                        "linecolor": "white",
                        "showbackground": true,
                        "ticks": "",
                        "zerolinecolor": "white"
                      },
                      "zaxis": {
                        "backgroundcolor": "#E5ECF6",
                        "gridcolor": "white",
                        "gridwidth": 2,
                        "linecolor": "white",
                        "showbackground": true,
                        "ticks": "",
                        "zerolinecolor": "white"
                      }
                    },
                    "shapedefaults": {
                      "line": {
                        "color": "#2a3f5f"
                      }
                    },
                    "ternary": {
                      "aaxis": {
                        "gridcolor": "white",
                        "linecolor": "white",
                        "ticks": ""
                      },
                      "baxis": {
                        "gridcolor": "white",
                        "linecolor": "white",
                        "ticks": ""
                      },
                      "bgcolor": "#E5ECF6",
                      "caxis": {
                        "gridcolor": "white",
                        "linecolor": "white",
                        "ticks": ""
                      }
                    },
                    "title": {
                      "x": 0.05
                    },
                    "xaxis": {
                      "automargin": true,
                      "gridcolor": "white",
                      "linecolor": "white",
                      "ticks": "",
                      "title": {
                        "standoff": 15
                      },
                      "zerolinecolor": "white",
                      "zerolinewidth": 2
                    },
                    "yaxis": {
                      "automargin": true,
                      "gridcolor": "white",
                      "linecolor": "white",
                      "ticks": "",
                      "title": {
                        "standoff": 15
                      },
                      "zerolinecolor": "white",
                      "zerolinewidth": 2
                    }
                  }
                },
                "width": 1169.5,
                "xaxis": {
                  "range": [
                    0,
                    1169.5
                  ],
                  "visible": false
                },
                "yaxis": {
                  "range": [
                    0,
                    827
                  ],
                  "scaleanchor": "x",
                  "visible": false
                }
              }
            }
          },
          "metadata": {}
        }
      ],
      "metadata": {
        "colab": {
          "base_uri": "https://localhost:8080/",
          "height": 864
        },
        "id": "kpXV9u3RTfQ0",
        "outputId": "40cc6a0d-7895-47bc-a153-3807abe9b860"
      }
    },
    {
      "cell_type": "markdown",
      "source": [
        "## Creating Line Graphs (real time + static)"
      ],
      "metadata": {
        "id": "bmeWlw2_qGEJ"
      }
    },
    {
      "cell_type": "code",
      "execution_count": 174,
      "source": [
        "from itertools import count\r\n",
        "#Initializations of arrays and values for calculations\r\n",
        "x = (int(np.argmax(impact_fdd))) / 5 #Getting the index for the peak registered for the impact FDD\r\n",
        "timeofImpact = int(x)\r\n",
        "default_interval = 3.0*1000 #Default interval of time for averaging and displaying on line graph\r\n",
        "sec_ai = 60 #seconds after impact calculations will be done\r\n",
        "\r\n",
        "\r\n",
        "cnt = 0\r\n",
        "\r\n",
        "def pregraph4(it, ft):\r\n",
        "  global average\r\n",
        "  average = [[], [], [], [], []]\r\n",
        "  global stddev\r\n",
        "  stddev = [[], [], [], [], []]\r\n",
        "  cnt = 0\r\n",
        "  global low_1\r\n",
        "  global low_2\r\n",
        "  global low_3\r\n",
        "  global low_4\r\n",
        "  global low_5\r\n",
        "  global high_1\r\n",
        "  global high_2\r\n",
        "  global high_3\r\n",
        "  global high_4\r\n",
        "  global high_5\r\n",
        "  low_1 = []\r\n",
        "  low_2 = []\r\n",
        "  low_3 = []\r\n",
        "  low_4 = []\r\n",
        "  low_5 = []\r\n",
        "  high_1 = []\r\n",
        "  high_2 = []\r\n",
        "  high_3 = []\r\n",
        "  high_4 = []\r\n",
        "  high_5 = []\r\n",
        "  \r\n",
        "\r\n",
        "  #Calculations of averages of windows over time, values stored in average and stddev lists\r\n",
        "  def avg_std(dmg_info, impact, cnt, st, ft): #function that calculates the mean and standard deviation\r\n",
        "  # for a certain time interval, can be adjusted\r\n",
        "    a = (dmg_info[st*1000:])\r\n",
        "    b = a[:((ft-st) * 1000),0]\r\n",
        "    \r\n",
        "    for i in range(0, len(b), 1000):\r\n",
        "        \r\n",
        "        if (i - default_interval) < 0:\r\n",
        "            #print(np.mean(b[impact:i]))\r\n",
        "            if (i == 0):\r\n",
        "              average[cnt].append(np.mean(b[0]))\r\n",
        "              stddev[cnt].append(np.std(b[0]))\r\n",
        "            else:\r\n",
        "              average[cnt].append(np.mean(b[0:i]))\r\n",
        "              stddev[cnt].append(np.std(b[0:i]))\r\n",
        "        else:\r\n",
        "            average[cnt].append(np.mean(b[(i-(int(3.0*1000))):i]))\r\n",
        "            stddev[cnt].append(np.std(b[(i-(int(3.0*1000))):i]))\r\n",
        "\r\n",
        "  #Function Calls and List Initializations\r\n",
        "  avg_std(dmg_fdd[0], timeofImpact, 0, it, ft);\r\n",
        "  avg_std(dmg_fdd[1], timeofImpact, 1, it, ft);\r\n",
        "  avg_std(dmg_fdd[2], timeofImpact, 2, it, ft);\r\n",
        "  avg_std(dmg_fdd[3], timeofImpact, 3, it, ft);\r\n",
        "  avg_std(dmg_fdd[4], timeofImpact, 4, it, ft);\r\n",
        "\r\n",
        "\r\n",
        "  #Appending lower and upper bounds to repsective lists, capping at 0 and 1\r\n",
        "  for i in range(len(average[0])):\r\n",
        "    low_1.append(average[0][i] - stddev[0][i])\r\n",
        "    low_2.append(average[1][i] - stddev[1][i])\r\n",
        "    low_3.append(average[2][i] - stddev[2][i])\r\n",
        "    low_4.append(average[3][i] - stddev[3][i])\r\n",
        "    low_5.append(average[4][i] - stddev[4][i])\r\n",
        "    high_1.append(average[0][i] + stddev[0][i])\r\n",
        "    high_2.append(average[1][i] + stddev[1][i])\r\n",
        "    high_3.append(average[2][i] + stddev[2][i])\r\n",
        "    high_4.append(average[3][i] + stddev[3][i])\r\n",
        "    high_5.append(average[4][i] + stddev[4][i])\r\n",
        "    low_list = [low_1, low_2, low_3, low_4, low_5]\r\n",
        "    high_list = [high_1, high_2, high_3, high_4, high_5]\r\n",
        "    for k in low_list:\r\n",
        "      if k[i] < 0:\r\n",
        "        k[i] = 0\r\n",
        "    for j in high_list:\r\n",
        "      if j[i] > 1:\r\n",
        "        j[i] = 1\r\n",
        "\r\n",
        "  #Low lists reversed\r\n",
        "  low_1 = low_1[::-1]\r\n",
        "  low_2 = low_2[::-1]\r\n",
        "  low_3 = low_3[::-1]\r\n",
        "  low_4 = low_4[::-1]\r\n",
        "  low_5 = low_5[::-1]\r\n",
        "\r\n",
        "  #Iteration for x axis list\r\n",
        "  index = count(start=it)\r\n",
        "  global xvals\r\n",
        "  xvals = [0]*len(average[0]) \r\n",
        "  for i in range(len(average[0])):\r\n",
        "    xvals[i] = next(index)"
      ],
      "outputs": [],
      "metadata": {
        "id": "PFbu7kKc-6Ds"
      }
    },
    {
      "cell_type": "code",
      "execution_count": 175,
      "source": [
        "from plotly.subplots import make_subplots\r\n",
        "import plotly.graph_objects as go\r\n",
        "def avg_linegraphs(it, ft):\r\n",
        "    pregraph4(it, ft)\r\n",
        "    fig = go.Figure()   \r\n",
        "    fig.add_trace(go.Scatter(\r\n",
        "        x=xvals+xvals[::-1],\r\n",
        "        y=high_1+low_1,\r\n",
        "        fill='toself',\r\n",
        "        fillcolor='rgba(34, 139, 34, 0.2)',\r\n",
        "        line_color='rgba(255,255,255,0)',\r\n",
        "        showlegend=False,\r\n",
        "        name='Segment 1',\r\n",
        "    ))\r\n",
        "    fig.add_trace(go.Scatter(\r\n",
        "        x=xvals+xvals[::-1],\r\n",
        "        y=high_2+low_2,\r\n",
        "        fill='toself',\r\n",
        "        fillcolor='rgba(0,176,246,0.2)',\r\n",
        "        line_color='rgba(255,255,255,0)',\r\n",
        "        name='Segment 2',\r\n",
        "        showlegend=False,\r\n",
        "    ))\r\n",
        "    fig.add_trace(go.Scatter(\r\n",
        "        x=xvals+xvals[::-1],\r\n",
        "        y=high_3+low_3,\r\n",
        "        fill='toself',\r\n",
        "        fillcolor='rgba(255,211,67,0.2)',\r\n",
        "        line_color='rgba(255,255,255,0)',\r\n",
        "        showlegend=False,\r\n",
        "        name='Segment 3',\r\n",
        "    ))\r\n",
        "    fig.add_trace(go.Scatter(\r\n",
        "        x=xvals+xvals[::-1],\r\n",
        "        y=high_4+low_4,\r\n",
        "        fill='toself',\r\n",
        "        fillcolor='rgba(214, 39, 40, 0.2)',\r\n",
        "        line_color='rgba(255,255,255,0)',\r\n",
        "        showlegend=False,\r\n",
        "        name='Segment 4',\r\n",
        "    ))\r\n",
        "    fig.add_trace(go.Scatter(\r\n",
        "        x=xvals+xvals[::-1],\r\n",
        "        y=high_5+low_5,\r\n",
        "        fill='toself',\r\n",
        "        fillcolor='rgba(255, 127, 14, 0.2)',\r\n",
        "        line_color='rgba(255,255,255,0)',\r\n",
        "        showlegend=False,\r\n",
        "        name='Segment 5',\r\n",
        "    ))\r\n",
        "    fig.add_trace(go.Scatter(\r\n",
        "        x=xvals, y=average[0],\r\n",
        "        line_color='rgb(34, 139, 34)',\r\n",
        "        name='Segment 1',\r\n",
        "    ))\r\n",
        "    fig.add_trace(go.Scatter(\r\n",
        "        x=xvals, y=average[1],\r\n",
        "        line_color='rgb(0,176,246)',\r\n",
        "        name='Segment 2',\r\n",
        "    ))\r\n",
        "    fig.add_trace(go.Scatter(\r\n",
        "        x=xvals, y=average[2],\r\n",
        "        line_color='rgb(255,211,67)',\r\n",
        "        name='Segment 3',\r\n",
        "    ))\r\n",
        "    fig.add_trace(go.Scatter(\r\n",
        "        x=xvals, y=average[3],\r\n",
        "        line_color='rgb(214, 39, 40)',\r\n",
        "        name='Segment 4',\r\n",
        "    ))\r\n",
        "    fig.add_trace(go.Scatter(\r\n",
        "        x=xvals, y=average[4],\r\n",
        "        line_color='rgb(255, 127, 14)',\r\n",
        "        name='Segment 5',\r\n",
        "    ))\r\n",
        "    \r\n",
        "\r\n",
        "    fig.update_traces(mode='lines')\r\n",
        "    return fig"
      ],
      "outputs": [],
      "metadata": {
        "id": "kazsK51YM9eD"
      }
    },
    {
      "cell_type": "markdown",
      "source": [
        "## Creating real time impact FDD graphs\n",
        "For this current iteration impact fdd data had to be simplified to accomodate for animation. Only 1 point for each second is shown, even though there are 1000 data points per second"
      ],
      "metadata": {
        "id": "vk8zXkfypuxh"
      }
    },
    {
      "cell_type": "code",
      "execution_count": 176,
      "source": [
        "def graphiFDD(st, ft):\r\n",
        "    from plotly.subplots import make_subplots\r\n",
        "    import plotly.graph_objects as go\r\n",
        "    fig43 = make_subplots(\r\n",
        "        rows=5, cols=1, subplot_titles=('Segment 1', 'Segment 2', 'Segment 3', 'Segment 4', 'Segment 5'),\r\n",
        "        horizontal_spacing=0.051, shared_xaxes = True, shared_yaxes = True\r\n",
        "    )\r\n",
        "\r\n",
        "    fig43.add_trace(go.Scatter(x=np.arange(0,120, 0.001), y = impact_fdd[1000*st:1000*ft, 0], mode=\"lines\", name=\"P[Damage] seg1\"), row=1, col=1) #this is the trace of index 0\r\n",
        "\r\n",
        "    fig43.add_trace(go.Scatter(x=np.arange(0,120, 0.001),y = impact_fdd[1000*st:1000*ft, 1], mode=\"lines\", name=\"P[Damage] seg2\"), row=2, col=1)  #trace of index 1\r\n",
        "    fig43.add_trace(go.Scatter(x=np.arange(0,120, 0.001),y = impact_fdd[1000*st:1000*ft, 2], mode=\"lines\", name=\"P[Damage] seg3\"), row=3, col=1) #this is the trace of index 2\r\n",
        "\r\n",
        "    fig43.add_trace(go.Scatter(x=np.arange(0,120, 0.001),y = impact_fdd[1000*st:1000*ft, 3], mode=\"lines\", name=\"P[Damage] seg4\"), row=4, col=1)  #trace of index 3\r\n",
        "\r\n",
        "    fig43.add_trace(go.Scatter(x=np.arange(0,120, 0.001),y = impact_fdd[1000*st:1000*ft, 4], mode=\"lines\", name=\"P[Damage] seg5\"), row=5, col=1) #this is the trace of index 4\r\n",
        "    fig43.update_layout(yaxis2_range=[0,1], yaxis_range=[0,1],\r\n",
        "                    yaxis3_range=[0,1], yaxis5_range=[0,1],yaxis4_range=[0,1],\r\n",
        "                    title=\"Impact probabilities for each segment\", xaxis5_title=\"Time\",\r\n",
        "                    yaxis3_title=\"P[Damage]\")\r\n",
        "    return fig43\r\n",
        "\r\n",
        " "
      ],
      "outputs": [],
      "metadata": {
        "colab": {
          "base_uri": "https://localhost:8080/",
          "height": 517
        },
        "id": "e3ZoX3-WnNyS",
        "outputId": "14c210ba-eef9-4138-a6cb-a008149c73f1"
      }
    },
    {
      "cell_type": "markdown",
      "source": [
        "## Dash interface 2.0"
      ],
      "metadata": {
        "id": "KgyZMZMIhpKL"
      }
    },
    {
      "cell_type": "code",
      "execution_count": 178,
      "source": [
        "external_stylesheets = ['https://codepen.io/chriddyp/pen/bWLwgP.css']\r\n",
        "app = JupyterDash(__name__, external_stylesheets=external_stylesheets)\r\n",
        "t_update = 8\r\n",
        "\r\n",
        "\r\n",
        "app.layout = html.Div([\r\n",
        "  #Interval strcutures that updates every 10 seconds with more data\r\n",
        "  #to change time to take for app to update change the variable ttu (time to update above)\r\n",
        "  dcc.Interval(\r\n",
        "    id=\"ult_timetrack\",\r\n",
        "    interval=t_update*1000,\r\n",
        "    n_intervals=0),\r\n",
        "  #high level tabs. Currently divided into after impact info and real time status\r\n",
        "  dcc.Tabs(id='tabs-main', value='tab-dmg', children=[\r\n",
        "        ##Structures inside After Impact Information Tab\r\n",
        "        dcc.Tab(label='After impact Info', value='tab-main' ,children=        \r\n",
        "                html.Div([\r\n",
        "                #Dropdown to select graph to display\r\n",
        "                dcc.Dropdown(\r\n",
        "                    id='my_dropdown',\r\n",
        "                    options=[\r\n",
        "                              {\"label\": \"See damage history data\", \"value\": \"linechart\"},\r\n",
        "                              {\"label\": \"Show estimated damage\", \"value\": \"barchart\"},   \r\n",
        "                              {\"label\": \"See FDD data\", \"value\": \"FDDdata\"}, \r\n",
        "                              ],\r\n",
        "                    optionHeight=35,                    #height/space between dropdown options\r\n",
        "                    value='barchart',                    #dropdown value selected automatically when page loads\r\n",
        "                    disabled=False,                     #disable dropdown value selection\r\n",
        "                    multi=False,                        #allow multiple dropdown values to be selected\r\n",
        "                    searchable=True,                    #allow user-searching of dropdown values\r\n",
        "                    search_value='',                    #remembers the value searched in dropdown\r\n",
        "                    placeholder='Please select...',     #gray, default text shown when no option is selected\r\n",
        "                    clearable=True,                     #allow user to removes the selected value\r\n",
        "                    style={'width':\"100%\", 'display': 'inline-block'},             #use dictionary to define CSS styles of your dropdown         \r\n",
        "                  ),\r\n",
        "                  #graph displayed below dropbar, changes according to user's choice\r\n",
        "                  dcc.Graph(\r\n",
        "                      id=\"graph_selected\",\r\n",
        "                      figure={}\r\n",
        "                  ),\r\n",
        "                  #Range slider, provides user with ability to choose time interval to go over\r\n",
        "                  dcc.RangeSlider(\r\n",
        "                      id=\"time_interval\",\r\n",
        "                      min=0,\r\n",
        "                      step=1,\r\n",
        "                      value=[0, 1]  \r\n",
        "                  ),\r\n",
        "                  ##Tabs inside After impact Information showing explanation for graphs shown. Some are still missing info\r\n",
        "                  dcc.Tabs(id='tabs-example', value='tab-1', children=[\r\n",
        "                      dcc.Tab(label='How estimated damage was calculated', value='tab-1' ,children=\r\n",
        "                              dcc.Graph(\r\n",
        "                                  id=\"exp1\",\r\n",
        "                                  figure=fig34\r\n",
        "                                  )\r\n",
        "                              ),\r\n",
        "                      dcc.Tab(label='How damage FDD data was calculated', value='tab-2'),\r\n",
        "                      dcc.Tab(label=\"How real time feedback was calculated\", value=\"tab-3\", children=\r\n",
        "                              dcc.Graph(\r\n",
        "                                  id=\"exp2\",\r\n",
        "                                  figure = fig35\r\n",
        "                              )\r\n",
        "                              ),\r\n",
        "                      dcc.Tab(label=\"How Impact FDD data was calculated\", value=\"tab4\")\r\n",
        "                      ]),\r\n",
        "                  html.Div(id='dd-output-container')])\r\n",
        "                              ),\r\n",
        "        ##tab that shows real time status\r\n",
        "        dcc.Tab(label=\"Real time status\", value=\"tab-dmg\", children=\r\n",
        "                html.Div([\r\n",
        "                          #Graph to show impact FDD\r\n",
        "                          dcc.Graph(\r\n",
        "                              id=\"rtimpactdata\"\r\n",
        "                              \r\n",
        "                          ),\r\n",
        "                          #Graph to show line graph heuristic of damageFDD\r\n",
        "                          dcc.Graph(\r\n",
        "                              id=\"rtdamagedata\"\r\n",
        "                              \r\n",
        "                          )\r\n",
        "                ]))\r\n",
        "  \r\n",
        "         ]),\r\n",
        "    html.Div(id='outer-tab')\r\n",
        "  ])\r\n",
        "## Callback is an element of a dash app that updates the app each time any of the inputs change. Once that is the case\r\n",
        "## the function below is runned and the values returned are assigned to the outputs\r\n",
        "#outputs and inputs consist of strcuture id and component that it is refering to\r\n",
        "@app.callback(\r\n",
        "    [Output(\"graph_selected\", \"figure\"), \r\n",
        "    Output(\"rtimpactdata\", \"figure\"), Output(\"rtdamagedata\", \"figure\"), Output(\"time_interval\", \"max\"),\r\n",
        "    Output(\"time_interval\", \"marks\")],\r\n",
        "    [Input('my_dropdown', 'value'), Input(\"time_interval\", \"value\"), \r\n",
        "    Input(\"tabs-example\", \"value\"), Input(\"ult_timetrack\", \"n_intervals\")]\r\n",
        "    \r\n",
        "    )\r\n",
        "  ## Function to update values\r\n",
        "def update_output(value, time_int, tabss, n):\r\n",
        "    if value == \"barchart\":\r\n",
        "      fig = graph3(time_int[0], time_int[1])\r\n",
        "    elif value == \"FDDdata\":\r\n",
        "      fig = FDD_graphs(0, t_update*n)\r\n",
        "    elif value == \"linechart\":\r\n",
        "      fig = avg_linegraphs(time_int[0], time_int[1])\r\n",
        "    fig1 = avg_linegraphs(0, t_update*n)\r\n",
        "    fig2 = graphiFDD(0,t_update*n)\r\n",
        "    m = t_update*n\r\n",
        "    marks = {0: str(-t_update*n)}\r\n",
        "    return  fig, fig2, fig1, m, marks\r\n",
        "\r\n",
        "\r\n",
        "app.run_server(debug=False, port=8040)\r\n"
      ],
      "outputs": [
        {
          "output_type": "stream",
          "name": "stderr",
          "text": [
            "127.0.0.1 - - [28/Jul/2021 09:33:57] \"GET /_shutdown_ab67edb4-2bfc-47a5-b58a-72609532b4d5 HTTP/1.1\" 200 -\n",
            " * Running on http://127.0.0.1:8040/ (Press CTRL+C to quit)\n",
            "127.0.0.1 - - [28/Jul/2021 09:33:58] \"GET /_alive_ab67edb4-2bfc-47a5-b58a-72609532b4d5 HTTP/1.1\" 200 -\n"
          ]
        },
        {
          "output_type": "stream",
          "name": "stdout",
          "text": [
            "Dash app running on http://127.0.0.1:8040/\n"
          ]
        },
        {
          "output_type": "stream",
          "name": "stderr",
          "text": [
            "127.0.0.1 - - [28/Jul/2021 09:34:11] \"GET / HTTP/1.1\" 200 -\n",
            "127.0.0.1 - - [28/Jul/2021 09:34:12] \"GET /_dash-layout HTTP/1.1\" 200 -\n",
            "127.0.0.1 - - [28/Jul/2021 09:34:12] \"GET /_dash-dependencies HTTP/1.1\" 200 -\n",
            "127.0.0.1 - - [28/Jul/2021 09:34:12] \"GET /_dash-component-suites/dash_core_components/async-graph.js HTTP/1.1\" 200 -\n",
            "127.0.0.1 - - [28/Jul/2021 09:34:13] \"POST /_dash-update-component HTTP/1.1\" 500 -\n",
            "127.0.0.1 - - [28/Jul/2021 09:34:13] \"GET /_dash-component-suites/dash_core_components/async-plotlyjs.js HTTP/1.1\" 200 -\n",
            "127.0.0.1 - - [28/Jul/2021 09:34:21] \"POST /_dash-update-component HTTP/1.1\" 500 -\n",
            "127.0.0.1 - - [28/Jul/2021 09:34:29] \"POST /_dash-update-component HTTP/1.1\" 500 -\n",
            "127.0.0.1 - - [28/Jul/2021 09:34:37] \"POST /_dash-update-component HTTP/1.1\" 500 -\n",
            "127.0.0.1 - - [28/Jul/2021 09:34:46] \"POST /_dash-update-component HTTP/1.1\" 500 -\n",
            "127.0.0.1 - - [28/Jul/2021 09:34:53] \"POST /_dash-update-component HTTP/1.1\" 500 -\n",
            "127.0.0.1 - - [28/Jul/2021 09:34:53] \"GET /_dash-component-suites/dash_core_components/async-dropdown.js HTTP/1.1\" 200 -\n",
            "127.0.0.1 - - [28/Jul/2021 09:34:53] \"GET /_dash-component-suites/dash_core_components/async-slider.js HTTP/1.1\" 200 -\n",
            "127.0.0.1 - - [28/Jul/2021 09:35:01] \"POST /_dash-update-component HTTP/1.1\" 200 -\n",
            "127.0.0.1 - - [28/Jul/2021 09:35:02] \"POST /_dash-update-component HTTP/1.1\" 200 -\n"
          ]
        }
      ],
      "metadata": {
        "colab": {
          "base_uri": "https://localhost:8080/",
          "height": 101
        },
        "id": "ai0xqGxhcXso",
        "outputId": "6ce80e0c-cb34-4e1d-c966-316910b67717"
      }
    },
    {
      "cell_type": "code",
      "execution_count": null,
      "source": [],
      "outputs": [],
      "metadata": {}
    }
  ]
}