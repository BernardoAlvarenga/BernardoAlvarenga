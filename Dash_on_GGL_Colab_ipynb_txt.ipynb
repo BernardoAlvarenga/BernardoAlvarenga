{
  "nbformat": 4,
  "nbformat_minor": 2,
  "metadata": {
    "kernelspec": {
      "name": "python3",
      "display_name": "Python 3.9.5 64-bit ('rethi': conda)"
    },
    "language_info": {
      "codemirror_mode": {
        "name": "ipython",
        "version": 3
      },
      "file_extension": ".py",
      "mimetype": "text/x-python",
      "name": "python",
      "nbconvert_exporter": "python",
      "pygments_lexer": "ipython3",
      "version": "3.9.5"
    },
    "colab": {
      "name": "Dash-on-GGL-Colab.ipynb.txt",
      "provenance": [],
      "collapsed_sections": []
    },
    "interpreter": {
      "hash": "f8c3b17328700d72648949fc10ecc04663de078f5ebf7bc33249d3ae77dfee98"
    }
  },
  "cells": [
    {
      "cell_type": "markdown",
      "source": [
        "# Dash Interface"
      ],
      "metadata": {
        "id": "836rRuCKl5X4"
      }
    },
    {
      "cell_type": "markdown",
      "source": [
        "## Importing modules "
      ],
      "metadata": {
        "id": "Mb1bvCgKmngm"
      }
    },
    {
      "cell_type": "code",
      "execution_count": 1,
      "source": [
        "from os.path import dirname, join, isfile\r\n",
        "from itertools import chain\r\n",
        "import pandas as pd\r\n",
        "import numpy as np\r\n",
        "import scipy.signal\r\n",
        "import scipy.io as sio\r\n",
        "import matplotlib.pyplot as plt\r\n",
        "from jupyter_dash import JupyterDash  # pip install dash\r\n",
        "import dash_html_components as html\r\n",
        "import dash_core_components as dcc\r\n",
        "from dash.dependencies import Output, Input\r\n",
        "import pandas as pd  # pip install pandas\r\n",
        "import plotly.express as px\r\n",
        "import math\r\n",
        "from dash import no_update\r\n",
        "from dash_canvas import DashCanvas"
      ],
      "outputs": [],
      "metadata": {
        "id": "dMcL38t2thW_"
      }
    },
    {
      "cell_type": "markdown",
      "source": [
        "## Function to get dataframe"
      ],
      "metadata": {
        "id": "mcVdU0EVmuFt"
      }
    },
    {
      "cell_type": "code",
      "execution_count": 2,
      "source": [
        "def get_dataframe(mat_fpath):\r\n",
        "    ''' Obtain Pandas dataframe from mat file\r\n",
        "    :param mat_fpath: File path to the mat file from which pandas DF should be created\r\n",
        "    '''\r\n",
        "    assert isfile(mat_fpath), \"Invalid file path!\"\r\n",
        "    mat_contents = sio.loadmat(mat_fpath)\r\n",
        "    viz_data = mat_contents[\"ccFddData\"]\r\n",
        "    viz_data = mat_contents['ccFddData']\r\n",
        "    n = 5;\r\n",
        "    iFDD_names = [\"Sys2_Impact_Location_P{}\".format(str(i+1)) for i in range(n)]\r\n",
        "    dFDD_pnames = [\"Sys2_Dmg_P_{}\".format(str(i+1)) for i in range(n)]\r\n",
        "    dFDD_cpnames = [\"Sys2_Dmg_P_{}_c\".format(str(i+1)) for i in range(n)]\r\n",
        "    dFDD_names = list(chain.from_iterable(zip(dFDD_pnames, dFDD_cpnames)))\r\n",
        "    col_names = ['Time', 'Sys2_Total_Dmg', 'Sys2_SimFDD_xe'] + iFDD_names + dFDD_names\r\n",
        "    df = pd.DataFrame(viz_data, columns = col_names)\r\n",
        "    return df             "
      ],
      "outputs": [],
      "metadata": {
        "id": "judwf2j1tjJv"
      }
    },
    {
      "cell_type": "code",
      "execution_count": 3,
      "source": [
        "data = get_dataframe(\"newData_v6.mat\")"
      ],
      "outputs": [],
      "metadata": {
        "id": "FymTJ0l8tpqq"
      }
    },
    {
      "cell_type": "code",
      "execution_count": 4,
      "source": [
        "t = data['Time'].to_numpy()\r\n",
        "trueHS = data['Sys2_Total_Dmg'].to_numpy()\r\n",
        "sim_fdd_xe = data['Sys2_SimFDD_xe'].to_numpy()\r\n",
        "impact_fdd = np.vstack(([data['Sys2_Impact_Location_P{}'.format(ii+1)].to_numpy() for ii in range(5)])).T\r\n",
        "dmg_fdd = [np.vstack((data['Sys2_Dmg_P_{}'.format(ii+1)].to_numpy(), \\\r\n",
        "                     data['Sys2_Dmg_P_{}_c'.format(ii+1)].to_numpy())).T for ii in range(5)]"
      ],
      "outputs": [],
      "metadata": {
        "id": "3Kv36GWFttHk"
      }
    },
    {
      "cell_type": "markdown",
      "source": [
        "## Function to graph FDD data"
      ],
      "metadata": {
        "id": "4fqzudWsnt0i"
      }
    },
    {
      "cell_type": "code",
      "execution_count": 5,
      "source": [
        "from plotly.subplots import make_subplots\r\n",
        "import plotly.graph_objects as go\r\n",
        "#statically graphs FDD data in a subplot\r\n",
        "def FDD_graphs(st, ft):\r\n",
        "  fig = make_subplots(rows=3, cols=2, \r\n",
        "                      subplot_titles=(\"Damage FDD: Segment 1\", \"Damage FDD: Segment 2\", \r\n",
        "                      \"Damage FDD: Segment 3\", \"Damage FDD: Segment 4\", \r\n",
        "                      \"Damage FDD: Segment 5\"))\r\n",
        "\r\n",
        "\r\n",
        "  fig.add_trace(\r\n",
        "      go.Scatter(x = t, y=dmg_fdd[0][st*1000:ft*1000,0], name=\"P[Damage] seg 1\"),\r\n",
        "      row = 1, col = 1\r\n",
        "  )\r\n",
        "  fig.add_trace(\r\n",
        "      go.Scatter(x = t, y=dmg_fdd[0][st*1000:ft*1000,1], name=\"P[No Damage] seg 1\"),\r\n",
        "      row = 1, col = 1\r\n",
        "  )\r\n",
        "  fig.add_trace(\r\n",
        "      go.Scatter(x = t, y=dmg_fdd[1][st*1000:ft*1000,0], name=\"P[Damage] seg 2\"),\r\n",
        "      row = 1, col = 2\r\n",
        "  )\r\n",
        "  fig.add_trace(\r\n",
        "      go.Scatter(x = t, y=dmg_fdd[1][st*1000:ft*1000,1], name=\"P[No Damage] seg 2\"),\r\n",
        "      row = 1, col = 2\r\n",
        "  )\r\n",
        "  fig.add_trace(\r\n",
        "      go.Scatter(x = t, y=dmg_fdd[2][st*1000:ft*1000,0], name=\"P[Damage] seg 3\"),\r\n",
        "      row = 2, col = 1\r\n",
        "  )\r\n",
        "  fig.add_trace(\r\n",
        "      go.Scatter(x = t, y=dmg_fdd[2][st*1000:ft*1000,1], name=\"P[No Damage] seg 3\"),\r\n",
        "      row = 2, col = 1\r\n",
        "  )\r\n",
        "  fig.add_trace(\r\n",
        "      go.Scatter(x = t, y=dmg_fdd[3][st*1000:ft*1000,0], name=\"P[Damage] seg 4\"),\r\n",
        "      row = 2, col = 2\r\n",
        "  )\r\n",
        "  fig.add_trace(\r\n",
        "      go.Scatter(x = t, y=dmg_fdd[3][st*1000:ft*1000,1], name=\"P[No Damage] seg 4\"),\r\n",
        "      row = 2, col = 2\r\n",
        "   )\r\n",
        "  fig.add_trace(\r\n",
        "      go.Scatter(x = t, y=dmg_fdd[4][st*1000:ft*1000,0], name=\"P[Damage] seg 5\"),\r\n",
        "      row = 3, col = 1\r\n",
        "  )\r\n",
        "  fig.add_trace(\r\n",
        "      go.Scatter(x = t, y=dmg_fdd[4][st*1000:ft*1000,1], name=\"P[No Damage] seg 5\"),\r\n",
        "      row = 3, col =1\r\n",
        "  )\r\n",
        "\r\n",
        "\r\n",
        "  #fig.update_layout(height=1000, width=900, title_text=\"FDD data for damage in each segment\")\r\n",
        "  return fig"
      ],
      "outputs": [],
      "metadata": {
        "id": "QgjLrkomfdGe"
      }
    },
    {
      "cell_type": "markdown",
      "source": [
        "## Interface to show data"
      ],
      "metadata": {}
    },
    {
      "cell_type": "code",
      "execution_count": 11,
      "source": [
        "external_stylesheets = ['https://codepen.io/chriddyp/pen/bWLwgP.css']\r\n",
        "app_testtt = JupyterDash(__name__, external_stylesheets=external_stylesheets)\r\n",
        "\r\n",
        "app_testtt.layout = html.Div([\r\n",
        "    dcc.Dropdown(\r\n",
        "        id=\"sub_to_choose\",\r\n",
        "        options=[\r\n",
        "            {'label': 'Structure Sys', 'value': 'struc'},\r\n",
        "            {'label': 'Power Sys', 'value': 'pow'},\r\n",
        "            {'label': 'Blank sys', 'value': 'blank'}\r\n",
        "        ],\r\n",
        "        value='struc'\r\n",
        "    ),\r\n",
        "    dcc.Graph(\r\n",
        "        id=\"updating_graph\"\r\n",
        "    ),\r\n",
        "    \r\n",
        "    dcc.Interval(\r\n",
        "        id=\"count_sec\",\r\n",
        "        interval=5*1000, # in milliseconds\r\n",
        "        n_intervals=0\r\n",
        "    )\r\n",
        "\r\n",
        "])\r\n",
        "\r\n",
        "@app_testtt.callback(Output('updating_graph', 'figure'),\r\n",
        "              [Input(\"sub_to_choose\", \"value\"),Input('count_sec', 'n_intervals')])\r\n",
        "def update_metrics(opt, n):\r\n",
        "    if opt == \"struc\":\r\n",
        "\r\n",
        "        fig = FDD_graphs(0, 5*n)\r\n",
        "    return fig\r\n",
        "\r\n",
        "\r\n",
        "app_testtt.run_server(debug=False, port=8020)"
      ],
      "outputs": [
        {
          "output_type": "stream",
          "name": "stderr",
          "text": [
            "C:\\Users\\Bernardo Alvarenga\\anaconda3\\envs\\rethi\\lib\\site-packages\\jupyter_dash\\jupyter_app.py:139: UserWarning:\n",
            "\n",
            "The 'environ['werkzeug.server.shutdown']' function is deprecated and will be removed in Werkzeug 2.1.\n",
            "\n",
            "127.0.0.1 - - [27/Jul/2021 17:29:40] \"GET /_shutdown_6b0c3b5c-fd04-49b0-9d00-db7fceb40bc8 HTTP/1.1\" 200 -\n",
            " * Running on http://127.0.0.1:8020/ (Press CTRL+C to quit)\n",
            "127.0.0.1 - - [27/Jul/2021 17:29:40] \"GET /_alive_6b0c3b5c-fd04-49b0-9d00-db7fceb40bc8 HTTP/1.1\" 200 -\n"
          ]
        },
        {
          "output_type": "stream",
          "name": "stdout",
          "text": [
            "Dash app running on http://127.0.0.1:8020/\n"
          ]
        },
        {
          "output_type": "stream",
          "name": "stderr",
          "text": [
            "127.0.0.1 - - [27/Jul/2021 17:29:47] \"GET / HTTP/1.1\" 200 -\n",
            "127.0.0.1 - - [27/Jul/2021 17:29:48] \"GET /_dash-layout HTTP/1.1\" 200 -\n",
            "127.0.0.1 - - [27/Jul/2021 17:29:48] \"GET /_dash-dependencies HTTP/1.1\" 200 -\n",
            "127.0.0.1 - - [27/Jul/2021 17:29:49] \"GET /_dash-component-suites/dash_core_components/async-graph.js HTTP/1.1\" 200 -\n",
            "127.0.0.1 - - [27/Jul/2021 17:29:49] \"GET /_dash-component-suites/dash_core_components/async-dropdown.js HTTP/1.1\" 200 -\n",
            "127.0.0.1 - - [27/Jul/2021 17:29:50] \"GET /_dash-component-suites/dash_core_components/async-plotlyjs.js HTTP/1.1\" 200 -\n",
            "127.0.0.1 - - [27/Jul/2021 17:29:53] \"POST /_dash-update-component HTTP/1.1\" 200 -\n",
            "127.0.0.1 - - [27/Jul/2021 17:29:58] \"POST /_dash-update-component HTTP/1.1\" 200 -\n",
            "127.0.0.1 - - [27/Jul/2021 17:30:03] \"POST /_dash-update-component HTTP/1.1\" 200 -\n",
            "127.0.0.1 - - [27/Jul/2021 17:30:09] \"POST /_dash-update-component HTTP/1.1\" 200 -\n",
            "127.0.0.1 - - [27/Jul/2021 17:30:13] \"POST /_dash-update-component HTTP/1.1\" 200 -\n",
            "127.0.0.1 - - [27/Jul/2021 17:30:20] \"POST /_dash-update-component HTTP/1.1\" 200 -\n",
            "127.0.0.1 - - [27/Jul/2021 17:30:24] \"POST /_dash-update-component HTTP/1.1\" 200 -\n",
            "127.0.0.1 - - [27/Jul/2021 17:30:29] \"POST /_dash-update-component HTTP/1.1\" 200 -\n",
            "127.0.0.1 - - [27/Jul/2021 17:30:32] \"POST /_dash-update-component HTTP/1.1\" 500 -\n",
            "127.0.0.1 - - [27/Jul/2021 17:30:34] \"POST /_dash-update-component HTTP/1.1\" 500 -\n",
            "127.0.0.1 - - [27/Jul/2021 17:30:34] \"POST /_dash-update-component HTTP/1.1\" 200 -\n",
            "127.0.0.1 - - [27/Jul/2021 17:30:39] \"POST /_dash-update-component HTTP/1.1\" 500 -\n",
            "127.0.0.1 - - [27/Jul/2021 17:30:44] \"POST /_dash-update-component HTTP/1.1\" 500 -\n",
            "127.0.0.1 - - [27/Jul/2021 17:30:49] \"POST /_dash-update-component HTTP/1.1\" 500 -\n",
            "127.0.0.1 - - [27/Jul/2021 17:30:54] \"POST /_dash-update-component HTTP/1.1\" 500 -\n",
            "127.0.0.1 - - [27/Jul/2021 17:30:59] \"POST /_dash-update-component HTTP/1.1\" 500 -\n",
            "127.0.0.1 - - [27/Jul/2021 17:31:04] \"POST /_dash-update-component HTTP/1.1\" 500 -\n",
            "127.0.0.1 - - [27/Jul/2021 17:31:09] \"POST /_dash-update-component HTTP/1.1\" 500 -\n",
            "127.0.0.1 - - [27/Jul/2021 17:31:14] \"POST /_dash-update-component HTTP/1.1\" 500 -\n",
            "127.0.0.1 - - [27/Jul/2021 17:31:19] \"POST /_dash-update-component HTTP/1.1\" 500 -\n",
            "127.0.0.1 - - [27/Jul/2021 17:31:24] \"POST /_dash-update-component HTTP/1.1\" 500 -\n",
            "127.0.0.1 - - [27/Jul/2021 17:31:29] \"POST /_dash-update-component HTTP/1.1\" 500 -\n",
            "127.0.0.1 - - [27/Jul/2021 17:31:34] \"POST /_dash-update-component HTTP/1.1\" 500 -\n",
            "127.0.0.1 - - [27/Jul/2021 17:31:39] \"POST /_dash-update-component HTTP/1.1\" 500 -\n",
            "127.0.0.1 - - [27/Jul/2021 17:31:44] \"POST /_dash-update-component HTTP/1.1\" 500 -\n",
            "127.0.0.1 - - [27/Jul/2021 17:31:49] \"POST /_dash-update-component HTTP/1.1\" 500 -\n",
            "127.0.0.1 - - [27/Jul/2021 17:31:55] \"POST /_dash-update-component HTTP/1.1\" 500 -\n",
            "127.0.0.1 - - [27/Jul/2021 17:32:00] \"POST /_dash-update-component HTTP/1.1\" 500 -\n",
            "127.0.0.1 - - [27/Jul/2021 17:32:05] \"POST /_dash-update-component HTTP/1.1\" 500 -\n",
            "127.0.0.1 - - [27/Jul/2021 17:32:10] \"POST /_dash-update-component HTTP/1.1\" 500 -\n",
            "127.0.0.1 - - [27/Jul/2021 17:32:15] \"POST /_dash-update-component HTTP/1.1\" 500 -\n",
            "127.0.0.1 - - [27/Jul/2021 17:32:19] \"POST /_dash-update-component HTTP/1.1\" 500 -\n",
            "127.0.0.1 - - [27/Jul/2021 17:32:25] \"POST /_dash-update-component HTTP/1.1\" 500 -\n",
            "127.0.0.1 - - [27/Jul/2021 17:32:30] \"POST /_dash-update-component HTTP/1.1\" 500 -\n",
            "127.0.0.1 - - [27/Jul/2021 17:32:35] \"POST /_dash-update-component HTTP/1.1\" 500 -\n",
            "127.0.0.1 - - [27/Jul/2021 17:32:40] \"POST /_dash-update-component HTTP/1.1\" 500 -\n",
            "127.0.0.1 - - [27/Jul/2021 17:32:45] \"POST /_dash-update-component HTTP/1.1\" 500 -\n",
            "127.0.0.1 - - [27/Jul/2021 17:32:50] \"POST /_dash-update-component HTTP/1.1\" 500 -\n",
            "127.0.0.1 - - [27/Jul/2021 17:32:55] \"POST /_dash-update-component HTTP/1.1\" 500 -\n",
            "127.0.0.1 - - [27/Jul/2021 17:33:00] \"POST /_dash-update-component HTTP/1.1\" 500 -\n",
            "127.0.0.1 - - [27/Jul/2021 17:33:05] \"POST /_dash-update-component HTTP/1.1\" 500 -\n",
            "127.0.0.1 - - [27/Jul/2021 17:33:10] \"POST /_dash-update-component HTTP/1.1\" 500 -\n",
            "127.0.0.1 - - [27/Jul/2021 17:33:15] \"POST /_dash-update-component HTTP/1.1\" 500 -\n",
            "127.0.0.1 - - [27/Jul/2021 17:33:20] \"POST /_dash-update-component HTTP/1.1\" 500 -\n",
            "127.0.0.1 - - [27/Jul/2021 17:33:25] \"POST /_dash-update-component HTTP/1.1\" 500 -\n",
            "127.0.0.1 - - [27/Jul/2021 17:33:30] \"POST /_dash-update-component HTTP/1.1\" 500 -\n",
            "127.0.0.1 - - [27/Jul/2021 17:33:35] \"POST /_dash-update-component HTTP/1.1\" 500 -\n",
            "127.0.0.1 - - [27/Jul/2021 17:33:40] \"POST /_dash-update-component HTTP/1.1\" 500 -\n",
            "127.0.0.1 - - [27/Jul/2021 17:33:45] \"POST /_dash-update-component HTTP/1.1\" 500 -\n",
            "127.0.0.1 - - [27/Jul/2021 17:33:50] \"POST /_dash-update-component HTTP/1.1\" 500 -\n",
            "127.0.0.1 - - [27/Jul/2021 17:33:55] \"POST /_dash-update-component HTTP/1.1\" 500 -\n",
            "127.0.0.1 - - [27/Jul/2021 17:34:00] \"POST /_dash-update-component HTTP/1.1\" 500 -\n",
            "127.0.0.1 - - [27/Jul/2021 17:34:05] \"POST /_dash-update-component HTTP/1.1\" 500 -\n",
            "127.0.0.1 - - [27/Jul/2021 17:34:10] \"POST /_dash-update-component HTTP/1.1\" 500 -\n",
            "127.0.0.1 - - [27/Jul/2021 17:34:15] \"POST /_dash-update-component HTTP/1.1\" 500 -\n",
            "127.0.0.1 - - [27/Jul/2021 17:34:20] \"POST /_dash-update-component HTTP/1.1\" 500 -\n",
            "127.0.0.1 - - [27/Jul/2021 17:34:25] \"POST /_dash-update-component HTTP/1.1\" 500 -\n",
            "127.0.0.1 - - [27/Jul/2021 17:34:30] \"POST /_dash-update-component HTTP/1.1\" 500 -\n",
            "127.0.0.1 - - [27/Jul/2021 17:34:35] \"POST /_dash-update-component HTTP/1.1\" 500 -\n",
            "127.0.0.1 - - [27/Jul/2021 17:34:40] \"POST /_dash-update-component HTTP/1.1\" 500 -\n",
            "127.0.0.1 - - [27/Jul/2021 17:34:45] \"POST /_dash-update-component HTTP/1.1\" 500 -\n",
            "127.0.0.1 - - [27/Jul/2021 17:34:50] \"POST /_dash-update-component HTTP/1.1\" 500 -\n",
            "127.0.0.1 - - [27/Jul/2021 17:34:55] \"POST /_dash-update-component HTTP/1.1\" 500 -\n",
            "127.0.0.1 - - [27/Jul/2021 17:35:00] \"POST /_dash-update-component HTTP/1.1\" 500 -\n",
            "127.0.0.1 - - [27/Jul/2021 17:35:05] \"POST /_dash-update-component HTTP/1.1\" 500 -\n",
            "127.0.0.1 - - [27/Jul/2021 17:35:09] \"POST /_dash-update-component HTTP/1.1\" 500 -\n",
            "127.0.0.1 - - [27/Jul/2021 17:35:15] \"POST /_dash-update-component HTTP/1.1\" 500 -\n",
            "127.0.0.1 - - [27/Jul/2021 17:35:19] \"POST /_dash-update-component HTTP/1.1\" 500 -\n",
            "127.0.0.1 - - [27/Jul/2021 17:35:24] \"POST /_dash-update-component HTTP/1.1\" 500 -\n",
            "127.0.0.1 - - [27/Jul/2021 17:35:29] \"POST /_dash-update-component HTTP/1.1\" 500 -\n",
            "127.0.0.1 - - [27/Jul/2021 17:35:34] \"POST /_dash-update-component HTTP/1.1\" 500 -\n",
            "127.0.0.1 - - [27/Jul/2021 17:35:39] \"POST /_dash-update-component HTTP/1.1\" 500 -\n",
            "127.0.0.1 - - [27/Jul/2021 17:35:45] \"POST /_dash-update-component HTTP/1.1\" 500 -\n",
            "127.0.0.1 - - [27/Jul/2021 17:35:50] \"POST /_dash-update-component HTTP/1.1\" 500 -\n",
            "127.0.0.1 - - [27/Jul/2021 17:35:55] \"POST /_dash-update-component HTTP/1.1\" 500 -\n",
            "127.0.0.1 - - [27/Jul/2021 17:36:00] \"POST /_dash-update-component HTTP/1.1\" 500 -\n",
            "127.0.0.1 - - [27/Jul/2021 17:36:05] \"POST /_dash-update-component HTTP/1.1\" 500 -\n",
            "127.0.0.1 - - [27/Jul/2021 17:36:10] \"POST /_dash-update-component HTTP/1.1\" 500 -\n",
            "127.0.0.1 - - [27/Jul/2021 17:36:15] \"POST /_dash-update-component HTTP/1.1\" 500 -\n",
            "127.0.0.1 - - [27/Jul/2021 17:36:20] \"POST /_dash-update-component HTTP/1.1\" 500 -\n",
            "127.0.0.1 - - [27/Jul/2021 17:36:25] \"POST /_dash-update-component HTTP/1.1\" 500 -\n",
            "127.0.0.1 - - [27/Jul/2021 17:36:30] \"POST /_dash-update-component HTTP/1.1\" 500 -\n",
            "127.0.0.1 - - [27/Jul/2021 17:36:35] \"POST /_dash-update-component HTTP/1.1\" 500 -\n",
            "127.0.0.1 - - [27/Jul/2021 17:36:40] \"POST /_dash-update-component HTTP/1.1\" 500 -\n",
            "127.0.0.1 - - [27/Jul/2021 17:36:45] \"POST /_dash-update-component HTTP/1.1\" 500 -\n",
            "127.0.0.1 - - [27/Jul/2021 17:36:50] \"POST /_dash-update-component HTTP/1.1\" 500 -\n",
            "127.0.0.1 - - [27/Jul/2021 17:36:55] \"POST /_dash-update-component HTTP/1.1\" 500 -\n",
            "127.0.0.1 - - [27/Jul/2021 17:37:00] \"POST /_dash-update-component HTTP/1.1\" 500 -\n",
            "127.0.0.1 - - [27/Jul/2021 17:37:05] \"POST /_dash-update-component HTTP/1.1\" 500 -\n",
            "127.0.0.1 - - [27/Jul/2021 17:37:10] \"POST /_dash-update-component HTTP/1.1\" 500 -\n",
            "127.0.0.1 - - [27/Jul/2021 17:37:15] \"POST /_dash-update-component HTTP/1.1\" 500 -\n"
          ]
        }
      ],
      "metadata": {
        "id": "PuXm27Cre0c4"
      }
    },
    {
      "cell_type": "code",
      "execution_count": null,
      "source": [],
      "outputs": [],
      "metadata": {}
    }
  ]
}